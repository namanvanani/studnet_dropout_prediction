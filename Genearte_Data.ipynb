{
 "cells": [
  {
   "cell_type": "code",
   "execution_count": 1,
   "id": "c45f4fb9",
   "metadata": {},
   "outputs": [
    {
     "name": "stdout",
     "output_type": "stream",
     "text": [
      "   id       name     sex urban/rural  income       GPA  average attendance  \\\n",
      "0   1  Student_1    Male       Rural    High  3.984316           80.387606   \n",
      "1   2  Student_2  Female       Urban  Medium  3.702850           64.765074   \n",
      "2   3  Student_3    Male       Urban    High  2.417021           56.830045   \n",
      "3   4  Student_4    Male       Urban     Low  3.861190           82.581988   \n",
      "4   5  Student_5    Male       Urban     Low  2.232733           86.929873   \n",
      "\n",
      "  Parents Qualification is dropout?  \n",
      "0                   Low         Yes  \n",
      "1                   Low         Yes  \n",
      "2                   Low         Yes  \n",
      "3                   Low         Yes  \n",
      "4                   Low         Yes  \n"
     ]
    }
   ],
   "source": [
    "import numpy as np\n",
    "import pandas as pd\n",
    "\n",
    "# Set random seed for reproducibility\n",
    "np.random.seed(42)\n",
    "\n",
    "# Number of samples\n",
    "num_samples = 1000\n",
    "\n",
    "# Generate synthetic data\n",
    "data = {\n",
    "    'id': range(1, num_samples + 1),\n",
    "    'name': [f'Student_{i}' for i in range(1, num_samples + 1)],\n",
    "    'sex': np.random.choice(['Male', 'Female'], size=num_samples),\n",
    "    'urban/rural': np.random.choice(['Urban', 'Rural'], size=num_samples),\n",
    "    'income': np.random.choice(['Low', 'Medium', 'High'], size=num_samples),\n",
    "    'GPA': np.random.uniform(2.0, 4.0, size=num_samples),\n",
    "    'average attendance': np.random.uniform(50, 100, size=num_samples),\n",
    "    'Parents Qualification': np.random.choice(['Low', 'Medium', 'High'], size=num_samples),\n",
    "}\n",
    "\n",
    "# Introduce outliers\n",
    "outlier_indices = np.random.choice(num_samples, size=int(0.05 * num_samples), replace=False)\n",
    "data['Parents Qualification'][outlier_indices] = 'Low'\n",
    "data['income'][outlier_indices] = 'Low'\n",
    "\n",
    "# Based on the specified rules, create 'is dropout?' column\n",
    "criteria = (\n",
    "    (data['GPA'] > 3.0) &\n",
    "    (data['average attendance'] > 75) &\n",
    "    (data['Parents Qualification'] == 'High') &\n",
    "    ((data['urban/rural'] == 'Urban') | (data['income'] == 'High'))\n",
    ")\n",
    "\n",
    "data['is dropout?'] = np.where(criteria, 'No', 'Yes')\n",
    "\n",
    "# Create DataFrame\n",
    "df = pd.DataFrame(data)\n",
    "\n",
    "# Save to CSV file\n",
    "df.to_csv('student_dropout_data.csv', index=False)\n",
    "\n",
    "# Display the first few rows of the generated data\n",
    "print(df.head())\n"
   ]
  },
  {
   "cell_type": "code",
   "execution_count": null,
   "id": "ee636c34",
   "metadata": {},
   "outputs": [],
   "source": []
  }
 ],
 "metadata": {
  "kernelspec": {
   "display_name": "Python 3 (ipykernel)",
   "language": "python",
   "name": "python3"
  },
  "language_info": {
   "codemirror_mode": {
    "name": "ipython",
    "version": 3
   },
   "file_extension": ".py",
   "mimetype": "text/x-python",
   "name": "python",
   "nbconvert_exporter": "python",
   "pygments_lexer": "ipython3",
   "version": "3.11.4"
  }
 },
 "nbformat": 4,
 "nbformat_minor": 5
}
