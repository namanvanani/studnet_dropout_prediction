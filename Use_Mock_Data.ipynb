{
 "cells": [
  {
   "cell_type": "code",
   "execution_count": 1,
   "id": "ad0a7d7e",
   "metadata": {},
   "outputs": [],
   "source": [
    "import pandas as pd\n",
    "import numpy as np\n",
    "import matplotlib.pyplot as plt"
   ]
  },
  {
   "cell_type": "code",
   "execution_count": 2,
   "id": "36e7368f",
   "metadata": {},
   "outputs": [],
   "source": [
    "df = pd.read_csv('MOCK_DATA (1).csv', index_col=\"Id\")"
   ]
  },
  {
   "cell_type": "code",
   "execution_count": 3,
   "id": "d74141cb",
   "metadata": {},
   "outputs": [],
   "source": [
    "quali = list(df[\"parents qualification\"].unique())"
   ]
  },
  {
   "cell_type": "code",
   "execution_count": 4,
   "id": "a3be71a9",
   "metadata": {},
   "outputs": [],
   "source": [
    "def set_sex(x):\n",
    "    if x==\"Male\":\n",
    "        return 1\n",
    "    elif x==\"Female\":\n",
    "        return 0\n",
    "    else:\n",
    "        return np.random.randint(2)\n",
    "    \n",
    "def set_area(x):\n",
    "    if x==\"urban\":\n",
    "        return 1\n",
    "    else:\n",
    "        return 0\n",
    "\n",
    "def set_parents_quali(x):\n",
    "    if x==quali[0]:\n",
    "        return 0\n",
    "    elif x==quali[1]:\n",
    "        return 1\n",
    "    else:\n",
    "        return 2\n",
    "\n",
    "def set_dropout(x):\n",
    "    if x==True:\n",
    "        return 1\n",
    "    else:\n",
    "        return 0"
   ]
  },
  {
   "cell_type": "code",
   "execution_count": 5,
   "id": "cdd6e151",
   "metadata": {},
   "outputs": [],
   "source": [
    "df[\"sex\"] = df[\"sex\"].apply(set_sex)\n",
    "df[\"urban/rural\"] = df[\"urban/rural\"].apply(set_area)\n",
    "df[\"parents qualification\"] = df[\"parents qualification\"].apply(set_parents_quali)\n",
    "df[\"dropout\"] = df[\"dropout\"].apply(set_dropout)"
   ]
  },
  {
   "cell_type": "code",
   "execution_count": 10,
   "id": "d02301d3",
   "metadata": {},
   "outputs": [
    {
     "data": {
      "text/plain": [
       "['High school', 'illiterate', 'Graduate']"
      ]
     },
     "execution_count": 10,
     "metadata": {},
     "output_type": "execute_result"
    }
   ],
   "source": [
    "quali"
   ]
  },
  {
   "cell_type": "code",
   "execution_count": 11,
   "id": "c92e3766",
   "metadata": {},
   "outputs": [
    {
     "data": {
      "text/html": [
       "<div>\n",
       "<style scoped>\n",
       "    .dataframe tbody tr th:only-of-type {\n",
       "        vertical-align: middle;\n",
       "    }\n",
       "\n",
       "    .dataframe tbody tr th {\n",
       "        vertical-align: top;\n",
       "    }\n",
       "\n",
       "    .dataframe thead th {\n",
       "        text-align: right;\n",
       "    }\n",
       "</style>\n",
       "<table border=\"1\" class=\"dataframe\">\n",
       "  <thead>\n",
       "    <tr style=\"text-align: right;\">\n",
       "      <th></th>\n",
       "      <th>name</th>\n",
       "      <th>sex</th>\n",
       "      <th>urban/rural</th>\n",
       "      <th>income</th>\n",
       "      <th>GPA</th>\n",
       "      <th>parents qualification</th>\n",
       "      <th>average attendance</th>\n",
       "      <th>dropout</th>\n",
       "    </tr>\n",
       "    <tr>\n",
       "      <th>Id</th>\n",
       "      <th></th>\n",
       "      <th></th>\n",
       "      <th></th>\n",
       "      <th></th>\n",
       "      <th></th>\n",
       "      <th></th>\n",
       "      <th></th>\n",
       "      <th></th>\n",
       "    </tr>\n",
       "  </thead>\n",
       "  <tbody>\n",
       "    <tr>\n",
       "      <th>1</th>\n",
       "      <td>Helenelizabeth</td>\n",
       "      <td>0</td>\n",
       "      <td>0</td>\n",
       "      <td>114586</td>\n",
       "      <td>3.8</td>\n",
       "      <td>0</td>\n",
       "      <td>81</td>\n",
       "      <td>1</td>\n",
       "    </tr>\n",
       "    <tr>\n",
       "      <th>2</th>\n",
       "      <td>Othella</td>\n",
       "      <td>0</td>\n",
       "      <td>0</td>\n",
       "      <td>7449</td>\n",
       "      <td>1.9</td>\n",
       "      <td>1</td>\n",
       "      <td>56</td>\n",
       "      <td>0</td>\n",
       "    </tr>\n",
       "    <tr>\n",
       "      <th>3</th>\n",
       "      <td>Sheryl</td>\n",
       "      <td>0</td>\n",
       "      <td>1</td>\n",
       "      <td>23284</td>\n",
       "      <td>3.3</td>\n",
       "      <td>1</td>\n",
       "      <td>25</td>\n",
       "      <td>0</td>\n",
       "    </tr>\n",
       "    <tr>\n",
       "      <th>4</th>\n",
       "      <td>Karim</td>\n",
       "      <td>1</td>\n",
       "      <td>0</td>\n",
       "      <td>212267</td>\n",
       "      <td>8.8</td>\n",
       "      <td>2</td>\n",
       "      <td>24</td>\n",
       "      <td>1</td>\n",
       "    </tr>\n",
       "    <tr>\n",
       "      <th>5</th>\n",
       "      <td>Lanny</td>\n",
       "      <td>0</td>\n",
       "      <td>1</td>\n",
       "      <td>585328</td>\n",
       "      <td>7.1</td>\n",
       "      <td>2</td>\n",
       "      <td>20</td>\n",
       "      <td>0</td>\n",
       "    </tr>\n",
       "    <tr>\n",
       "      <th>...</th>\n",
       "      <td>...</td>\n",
       "      <td>...</td>\n",
       "      <td>...</td>\n",
       "      <td>...</td>\n",
       "      <td>...</td>\n",
       "      <td>...</td>\n",
       "      <td>...</td>\n",
       "      <td>...</td>\n",
       "    </tr>\n",
       "    <tr>\n",
       "      <th>996</th>\n",
       "      <td>Paulie</td>\n",
       "      <td>1</td>\n",
       "      <td>1</td>\n",
       "      <td>921977</td>\n",
       "      <td>8.7</td>\n",
       "      <td>2</td>\n",
       "      <td>16</td>\n",
       "      <td>0</td>\n",
       "    </tr>\n",
       "    <tr>\n",
       "      <th>997</th>\n",
       "      <td>Yancey</td>\n",
       "      <td>1</td>\n",
       "      <td>0</td>\n",
       "      <td>734661</td>\n",
       "      <td>2.5</td>\n",
       "      <td>0</td>\n",
       "      <td>70</td>\n",
       "      <td>0</td>\n",
       "    </tr>\n",
       "    <tr>\n",
       "      <th>998</th>\n",
       "      <td>Marylee</td>\n",
       "      <td>0</td>\n",
       "      <td>0</td>\n",
       "      <td>240330</td>\n",
       "      <td>9.9</td>\n",
       "      <td>0</td>\n",
       "      <td>96</td>\n",
       "      <td>1</td>\n",
       "    </tr>\n",
       "    <tr>\n",
       "      <th>999</th>\n",
       "      <td>Renell</td>\n",
       "      <td>0</td>\n",
       "      <td>0</td>\n",
       "      <td>512529</td>\n",
       "      <td>6.0</td>\n",
       "      <td>1</td>\n",
       "      <td>94</td>\n",
       "      <td>0</td>\n",
       "    </tr>\n",
       "    <tr>\n",
       "      <th>1000</th>\n",
       "      <td>Glenn</td>\n",
       "      <td>1</td>\n",
       "      <td>1</td>\n",
       "      <td>731817</td>\n",
       "      <td>7.3</td>\n",
       "      <td>1</td>\n",
       "      <td>65</td>\n",
       "      <td>1</td>\n",
       "    </tr>\n",
       "  </tbody>\n",
       "</table>\n",
       "<p>1000 rows × 8 columns</p>\n",
       "</div>"
      ],
      "text/plain": [
       "                name  sex  urban/rural  income  GPA  parents qualification  \\\n",
       "Id                                                                           \n",
       "1     Helenelizabeth    0            0  114586  3.8                      0   \n",
       "2            Othella    0            0    7449  1.9                      1   \n",
       "3             Sheryl    0            1   23284  3.3                      1   \n",
       "4              Karim    1            0  212267  8.8                      2   \n",
       "5              Lanny    0            1  585328  7.1                      2   \n",
       "...              ...  ...          ...     ...  ...                    ...   \n",
       "996           Paulie    1            1  921977  8.7                      2   \n",
       "997           Yancey    1            0  734661  2.5                      0   \n",
       "998          Marylee    0            0  240330  9.9                      0   \n",
       "999           Renell    0            0  512529  6.0                      1   \n",
       "1000           Glenn    1            1  731817  7.3                      1   \n",
       "\n",
       "      average attendance  dropout  \n",
       "Id                                 \n",
       "1                     81        1  \n",
       "2                     56        0  \n",
       "3                     25        0  \n",
       "4                     24        1  \n",
       "5                     20        0  \n",
       "...                  ...      ...  \n",
       "996                   16        0  \n",
       "997                   70        0  \n",
       "998                   96        1  \n",
       "999                   94        0  \n",
       "1000                  65        1  \n",
       "\n",
       "[1000 rows x 8 columns]"
      ]
     },
     "execution_count": 11,
     "metadata": {},
     "output_type": "execute_result"
    }
   ],
   "source": [
    "df"
   ]
  },
  {
   "cell_type": "code",
   "execution_count": 12,
   "id": "f8dd591c",
   "metadata": {},
   "outputs": [],
   "source": [
    "one_hot_encoded = pd.get_dummies(df['parents qualification'], prefix='', drop_first=True)\n",
    "\n",
    "df = pd.concat([df, one_hot_encoded], axis=1)\n",
    "df = df.drop('parents qualification', axis=1)"
   ]
  },
  {
   "cell_type": "code",
   "execution_count": 13,
   "id": "41c3051c",
   "metadata": {},
   "outputs": [
    {
     "data": {
      "text/html": [
       "<div>\n",
       "<style scoped>\n",
       "    .dataframe tbody tr th:only-of-type {\n",
       "        vertical-align: middle;\n",
       "    }\n",
       "\n",
       "    .dataframe tbody tr th {\n",
       "        vertical-align: top;\n",
       "    }\n",
       "\n",
       "    .dataframe thead th {\n",
       "        text-align: right;\n",
       "    }\n",
       "</style>\n",
       "<table border=\"1\" class=\"dataframe\">\n",
       "  <thead>\n",
       "    <tr style=\"text-align: right;\">\n",
       "      <th></th>\n",
       "      <th>name</th>\n",
       "      <th>sex</th>\n",
       "      <th>urban/rural</th>\n",
       "      <th>income</th>\n",
       "      <th>GPA</th>\n",
       "      <th>average attendance</th>\n",
       "      <th>dropout</th>\n",
       "      <th>_1</th>\n",
       "      <th>_2</th>\n",
       "    </tr>\n",
       "    <tr>\n",
       "      <th>Id</th>\n",
       "      <th></th>\n",
       "      <th></th>\n",
       "      <th></th>\n",
       "      <th></th>\n",
       "      <th></th>\n",
       "      <th></th>\n",
       "      <th></th>\n",
       "      <th></th>\n",
       "      <th></th>\n",
       "    </tr>\n",
       "  </thead>\n",
       "  <tbody>\n",
       "    <tr>\n",
       "      <th>1</th>\n",
       "      <td>Helenelizabeth</td>\n",
       "      <td>0</td>\n",
       "      <td>0</td>\n",
       "      <td>114586</td>\n",
       "      <td>3.8</td>\n",
       "      <td>81</td>\n",
       "      <td>1</td>\n",
       "      <td>0</td>\n",
       "      <td>0</td>\n",
       "    </tr>\n",
       "    <tr>\n",
       "      <th>2</th>\n",
       "      <td>Othella</td>\n",
       "      <td>0</td>\n",
       "      <td>0</td>\n",
       "      <td>7449</td>\n",
       "      <td>1.9</td>\n",
       "      <td>56</td>\n",
       "      <td>0</td>\n",
       "      <td>1</td>\n",
       "      <td>0</td>\n",
       "    </tr>\n",
       "    <tr>\n",
       "      <th>3</th>\n",
       "      <td>Sheryl</td>\n",
       "      <td>0</td>\n",
       "      <td>1</td>\n",
       "      <td>23284</td>\n",
       "      <td>3.3</td>\n",
       "      <td>25</td>\n",
       "      <td>0</td>\n",
       "      <td>1</td>\n",
       "      <td>0</td>\n",
       "    </tr>\n",
       "    <tr>\n",
       "      <th>4</th>\n",
       "      <td>Karim</td>\n",
       "      <td>1</td>\n",
       "      <td>0</td>\n",
       "      <td>212267</td>\n",
       "      <td>8.8</td>\n",
       "      <td>24</td>\n",
       "      <td>1</td>\n",
       "      <td>0</td>\n",
       "      <td>1</td>\n",
       "    </tr>\n",
       "    <tr>\n",
       "      <th>5</th>\n",
       "      <td>Lanny</td>\n",
       "      <td>0</td>\n",
       "      <td>1</td>\n",
       "      <td>585328</td>\n",
       "      <td>7.1</td>\n",
       "      <td>20</td>\n",
       "      <td>0</td>\n",
       "      <td>0</td>\n",
       "      <td>1</td>\n",
       "    </tr>\n",
       "    <tr>\n",
       "      <th>...</th>\n",
       "      <td>...</td>\n",
       "      <td>...</td>\n",
       "      <td>...</td>\n",
       "      <td>...</td>\n",
       "      <td>...</td>\n",
       "      <td>...</td>\n",
       "      <td>...</td>\n",
       "      <td>...</td>\n",
       "      <td>...</td>\n",
       "    </tr>\n",
       "    <tr>\n",
       "      <th>996</th>\n",
       "      <td>Paulie</td>\n",
       "      <td>1</td>\n",
       "      <td>1</td>\n",
       "      <td>921977</td>\n",
       "      <td>8.7</td>\n",
       "      <td>16</td>\n",
       "      <td>0</td>\n",
       "      <td>0</td>\n",
       "      <td>1</td>\n",
       "    </tr>\n",
       "    <tr>\n",
       "      <th>997</th>\n",
       "      <td>Yancey</td>\n",
       "      <td>1</td>\n",
       "      <td>0</td>\n",
       "      <td>734661</td>\n",
       "      <td>2.5</td>\n",
       "      <td>70</td>\n",
       "      <td>0</td>\n",
       "      <td>0</td>\n",
       "      <td>0</td>\n",
       "    </tr>\n",
       "    <tr>\n",
       "      <th>998</th>\n",
       "      <td>Marylee</td>\n",
       "      <td>0</td>\n",
       "      <td>0</td>\n",
       "      <td>240330</td>\n",
       "      <td>9.9</td>\n",
       "      <td>96</td>\n",
       "      <td>1</td>\n",
       "      <td>0</td>\n",
       "      <td>0</td>\n",
       "    </tr>\n",
       "    <tr>\n",
       "      <th>999</th>\n",
       "      <td>Renell</td>\n",
       "      <td>0</td>\n",
       "      <td>0</td>\n",
       "      <td>512529</td>\n",
       "      <td>6.0</td>\n",
       "      <td>94</td>\n",
       "      <td>0</td>\n",
       "      <td>1</td>\n",
       "      <td>0</td>\n",
       "    </tr>\n",
       "    <tr>\n",
       "      <th>1000</th>\n",
       "      <td>Glenn</td>\n",
       "      <td>1</td>\n",
       "      <td>1</td>\n",
       "      <td>731817</td>\n",
       "      <td>7.3</td>\n",
       "      <td>65</td>\n",
       "      <td>1</td>\n",
       "      <td>1</td>\n",
       "      <td>0</td>\n",
       "    </tr>\n",
       "  </tbody>\n",
       "</table>\n",
       "<p>1000 rows × 9 columns</p>\n",
       "</div>"
      ],
      "text/plain": [
       "                name  sex  urban/rural  income  GPA  average attendance  \\\n",
       "Id                                                                        \n",
       "1     Helenelizabeth    0            0  114586  3.8                  81   \n",
       "2            Othella    0            0    7449  1.9                  56   \n",
       "3             Sheryl    0            1   23284  3.3                  25   \n",
       "4              Karim    1            0  212267  8.8                  24   \n",
       "5              Lanny    0            1  585328  7.1                  20   \n",
       "...              ...  ...          ...     ...  ...                 ...   \n",
       "996           Paulie    1            1  921977  8.7                  16   \n",
       "997           Yancey    1            0  734661  2.5                  70   \n",
       "998          Marylee    0            0  240330  9.9                  96   \n",
       "999           Renell    0            0  512529  6.0                  94   \n",
       "1000           Glenn    1            1  731817  7.3                  65   \n",
       "\n",
       "      dropout  _1  _2  \n",
       "Id                     \n",
       "1           1   0   0  \n",
       "2           0   1   0  \n",
       "3           0   1   0  \n",
       "4           1   0   1  \n",
       "5           0   0   1  \n",
       "...       ...  ..  ..  \n",
       "996         0   0   1  \n",
       "997         0   0   0  \n",
       "998         1   0   0  \n",
       "999         0   1   0  \n",
       "1000        1   1   0  \n",
       "\n",
       "[1000 rows x 9 columns]"
      ]
     },
     "execution_count": 13,
     "metadata": {},
     "output_type": "execute_result"
    }
   ],
   "source": [
    "df"
   ]
  },
  {
   "cell_type": "code",
   "execution_count": 14,
   "id": "c168de3f",
   "metadata": {},
   "outputs": [
    {
     "name": "stdout",
     "output_type": "stream",
     "text": [
      "Logistic Regression Accuracy: 0.45\n"
     ]
    }
   ],
   "source": [
    "import pandas as pd\n",
    "from sklearn.model_selection import train_test_split\n",
    "from sklearn.linear_model import LogisticRegression\n",
    "from sklearn.metrics import accuracy_score\n",
    "\n",
    "X = df[['sex', 'urban/rural', 'income', 'GPA', 'average attendance', '_1', '_2']]\n",
    "y = df['dropout']\n",
    "\n",
    "X_train, X_test, y_train, y_test = train_test_split(X, y, test_size=0.2)\n",
    "\n",
    "model = LogisticRegression()\n",
    "model.fit(X_train, y_train)\n",
    "\n",
    "predictions = model.predict(X_test)\n",
    "\n",
    "accuracy = accuracy_score(y_test, predictions)\n",
    "print(\"Logistic Regression Accuracy:\", accuracy)\n"
   ]
  },
  {
   "cell_type": "code",
   "execution_count": 15,
   "id": "8dc68f4e",
   "metadata": {},
   "outputs": [
    {
     "name": "stdout",
     "output_type": "stream",
     "text": [
      "Decision Tree Accuracy: 0.465\n"
     ]
    }
   ],
   "source": [
    "from sklearn.tree import DecisionTreeClassifier\n",
    "\n",
    "tree_model = DecisionTreeClassifier(max_depth=3)  # You may adjust max_depth\n",
    "tree_model.fit(X_train, y_train)\n",
    "\n",
    "\n",
    "tree_predictions = tree_model.predict(X_test)\n",
    "\n",
    "\n",
    "tree_accuracy = accuracy_score(y_test, tree_predictions)\n",
    "print(\"Decision Tree Accuracy:\", tree_accuracy)\n"
   ]
  },
  {
   "cell_type": "code",
   "execution_count": 16,
   "id": "e148c26c",
   "metadata": {},
   "outputs": [
    {
     "name": "stdout",
     "output_type": "stream",
     "text": [
      "Random Forest Accuracy: 0.495\n"
     ]
    }
   ],
   "source": [
    "from sklearn.ensemble import RandomForestClassifier\n",
    "\n",
    "forest_model = RandomForestClassifier(n_estimators=100)\n",
    "forest_model.fit(X_train, y_train)\n",
    "\n",
    "forest_predictions = forest_model.predict(X_test)\n",
    "\n",
    "forest_accuracy = accuracy_score(y_test, forest_predictions)\n",
    "print(\"Random Forest Accuracy:\", forest_accuracy)"
   ]
  },
  {
   "cell_type": "code",
   "execution_count": 17,
   "id": "94c0a852",
   "metadata": {},
   "outputs": [
    {
     "name": "stdout",
     "output_type": "stream",
     "text": [
      "SVM Accuracy: 0.49\n"
     ]
    }
   ],
   "source": [
    "from sklearn.svm import SVC\n",
    "from sklearn.preprocessing import StandardScaler\n",
    "from sklearn.pipeline import make_pipeline\n",
    "\n",
    "# ... (same data preparation steps as above)\n",
    "\n",
    "# SVM requires feature scaling\n",
    "svm_model = make_pipeline(StandardScaler(), SVC())\n",
    "svm_model.fit(X_train, y_train)\n",
    "\n",
    "# Make predictions\n",
    "svm_predictions = svm_model.predict(X_test)\n",
    "\n",
    "# Evaluate the model\n",
    "svm_accuracy = accuracy_score(y_test, svm_predictions)\n",
    "print(\"SVM Accuracy:\", svm_accuracy)\n"
   ]
  },
  {
   "cell_type": "code",
   "execution_count": 18,
   "id": "a4fbef48",
   "metadata": {},
   "outputs": [
    {
     "name": "stdout",
     "output_type": "stream",
     "text": [
      "Neural Network Accuracy: 0.5\n"
     ]
    },
    {
     "name": "stderr",
     "output_type": "stream",
     "text": [
      "C:\\Users\\DELL\\anaconda3\\Lib\\site-packages\\sklearn\\neural_network\\_multilayer_perceptron.py:686: ConvergenceWarning: Stochastic Optimizer: Maximum iterations (200) reached and the optimization hasn't converged yet.\n",
      "  warnings.warn(\n"
     ]
    }
   ],
   "source": [
    "from sklearn.neural_network import MLPClassifier\n",
    "from sklearn.preprocessing import StandardScaler\n",
    "from sklearn.pipeline import make_pipeline\n",
    "\n",
    "# ... (same data preparation steps as above)\n",
    "\n",
    "# Neural Networks also benefit from feature scaling\n",
    "nn_model = make_pipeline(StandardScaler(), MLPClassifier(hidden_layer_sizes=(100,)))\n",
    "nn_model.fit(X_train, y_train)\n",
    "\n",
    "# Make predictions\n",
    "nn_predictions = nn_model.predict(X_test)\n",
    "\n",
    "# Evaluate the model\n",
    "nn_accuracy = accuracy_score(y_test, nn_predictions)\n",
    "print(\"Neural Network Accuracy:\", nn_accuracy)\n"
   ]
  },
  {
   "cell_type": "code",
   "execution_count": 19,
   "id": "b94db9e3",
   "metadata": {},
   "outputs": [
    {
     "data": {
      "text/plain": [
       "Index(['name', 'sex', 'urban/rural', 'income', 'GPA', 'average attendance',\n",
       "       'dropout', '_1', '_2'],\n",
       "      dtype='object')"
      ]
     },
     "execution_count": 19,
     "metadata": {},
     "output_type": "execute_result"
    }
   ],
   "source": [
    "df.columns"
   ]
  },
  {
   "cell_type": "code",
   "execution_count": 20,
   "id": "50a67d9d",
   "metadata": {},
   "outputs": [
    {
     "data": {
      "text/html": [
       "<div>\n",
       "<style scoped>\n",
       "    .dataframe tbody tr th:only-of-type {\n",
       "        vertical-align: middle;\n",
       "    }\n",
       "\n",
       "    .dataframe tbody tr th {\n",
       "        vertical-align: top;\n",
       "    }\n",
       "\n",
       "    .dataframe thead th {\n",
       "        text-align: right;\n",
       "    }\n",
       "</style>\n",
       "<table border=\"1\" class=\"dataframe\">\n",
       "  <thead>\n",
       "    <tr style=\"text-align: right;\">\n",
       "      <th></th>\n",
       "      <th>name</th>\n",
       "      <th>sex</th>\n",
       "      <th>urban/rural</th>\n",
       "      <th>income</th>\n",
       "      <th>GPA</th>\n",
       "      <th>average attendance</th>\n",
       "      <th>Parents Qualification</th>\n",
       "      <th>is dropout?</th>\n",
       "    </tr>\n",
       "    <tr>\n",
       "      <th>id</th>\n",
       "      <th></th>\n",
       "      <th></th>\n",
       "      <th></th>\n",
       "      <th></th>\n",
       "      <th></th>\n",
       "      <th></th>\n",
       "      <th></th>\n",
       "      <th></th>\n",
       "    </tr>\n",
       "  </thead>\n",
       "  <tbody>\n",
       "    <tr>\n",
       "      <th>1</th>\n",
       "      <td>Student_1</td>\n",
       "      <td>Male</td>\n",
       "      <td>Rural</td>\n",
       "      <td>High</td>\n",
       "      <td>3.984316</td>\n",
       "      <td>80.387606</td>\n",
       "      <td>Low</td>\n",
       "      <td>Yes</td>\n",
       "    </tr>\n",
       "    <tr>\n",
       "      <th>2</th>\n",
       "      <td>Student_2</td>\n",
       "      <td>Female</td>\n",
       "      <td>Urban</td>\n",
       "      <td>Medium</td>\n",
       "      <td>3.702850</td>\n",
       "      <td>64.765074</td>\n",
       "      <td>Low</td>\n",
       "      <td>Yes</td>\n",
       "    </tr>\n",
       "    <tr>\n",
       "      <th>3</th>\n",
       "      <td>Student_3</td>\n",
       "      <td>Male</td>\n",
       "      <td>Urban</td>\n",
       "      <td>High</td>\n",
       "      <td>2.417021</td>\n",
       "      <td>56.830045</td>\n",
       "      <td>Low</td>\n",
       "      <td>Yes</td>\n",
       "    </tr>\n",
       "    <tr>\n",
       "      <th>4</th>\n",
       "      <td>Student_4</td>\n",
       "      <td>Male</td>\n",
       "      <td>Urban</td>\n",
       "      <td>Low</td>\n",
       "      <td>3.861190</td>\n",
       "      <td>82.581988</td>\n",
       "      <td>Low</td>\n",
       "      <td>Yes</td>\n",
       "    </tr>\n",
       "    <tr>\n",
       "      <th>5</th>\n",
       "      <td>Student_5</td>\n",
       "      <td>Male</td>\n",
       "      <td>Urban</td>\n",
       "      <td>Low</td>\n",
       "      <td>2.232733</td>\n",
       "      <td>86.929873</td>\n",
       "      <td>Low</td>\n",
       "      <td>Yes</td>\n",
       "    </tr>\n",
       "    <tr>\n",
       "      <th>...</th>\n",
       "      <td>...</td>\n",
       "      <td>...</td>\n",
       "      <td>...</td>\n",
       "      <td>...</td>\n",
       "      <td>...</td>\n",
       "      <td>...</td>\n",
       "      <td>...</td>\n",
       "      <td>...</td>\n",
       "    </tr>\n",
       "    <tr>\n",
       "      <th>996</th>\n",
       "      <td>Student_996</td>\n",
       "      <td>Male</td>\n",
       "      <td>Urban</td>\n",
       "      <td>Medium</td>\n",
       "      <td>3.314707</td>\n",
       "      <td>95.530286</td>\n",
       "      <td>Medium</td>\n",
       "      <td>Yes</td>\n",
       "    </tr>\n",
       "    <tr>\n",
       "      <th>997</th>\n",
       "      <td>Student_997</td>\n",
       "      <td>Male</td>\n",
       "      <td>Rural</td>\n",
       "      <td>High</td>\n",
       "      <td>2.944564</td>\n",
       "      <td>75.492700</td>\n",
       "      <td>High</td>\n",
       "      <td>Yes</td>\n",
       "    </tr>\n",
       "    <tr>\n",
       "      <th>998</th>\n",
       "      <td>Student_998</td>\n",
       "      <td>Female</td>\n",
       "      <td>Urban</td>\n",
       "      <td>Medium</td>\n",
       "      <td>3.760313</td>\n",
       "      <td>75.063782</td>\n",
       "      <td>High</td>\n",
       "      <td>No</td>\n",
       "    </tr>\n",
       "    <tr>\n",
       "      <th>999</th>\n",
       "      <td>Student_999</td>\n",
       "      <td>Female</td>\n",
       "      <td>Urban</td>\n",
       "      <td>High</td>\n",
       "      <td>2.431481</td>\n",
       "      <td>52.512150</td>\n",
       "      <td>High</td>\n",
       "      <td>Yes</td>\n",
       "    </tr>\n",
       "    <tr>\n",
       "      <th>1000</th>\n",
       "      <td>Student_1000</td>\n",
       "      <td>Male</td>\n",
       "      <td>Urban</td>\n",
       "      <td>High</td>\n",
       "      <td>3.355626</td>\n",
       "      <td>51.745578</td>\n",
       "      <td>Medium</td>\n",
       "      <td>Yes</td>\n",
       "    </tr>\n",
       "  </tbody>\n",
       "</table>\n",
       "<p>1000 rows × 8 columns</p>\n",
       "</div>"
      ],
      "text/plain": [
       "              name     sex urban/rural  income       GPA  average attendance  \\\n",
       "id                                                                             \n",
       "1        Student_1    Male       Rural    High  3.984316           80.387606   \n",
       "2        Student_2  Female       Urban  Medium  3.702850           64.765074   \n",
       "3        Student_3    Male       Urban    High  2.417021           56.830045   \n",
       "4        Student_4    Male       Urban     Low  3.861190           82.581988   \n",
       "5        Student_5    Male       Urban     Low  2.232733           86.929873   \n",
       "...            ...     ...         ...     ...       ...                 ...   \n",
       "996    Student_996    Male       Urban  Medium  3.314707           95.530286   \n",
       "997    Student_997    Male       Rural    High  2.944564           75.492700   \n",
       "998    Student_998  Female       Urban  Medium  3.760313           75.063782   \n",
       "999    Student_999  Female       Urban    High  2.431481           52.512150   \n",
       "1000  Student_1000    Male       Urban    High  3.355626           51.745578   \n",
       "\n",
       "     Parents Qualification is dropout?  \n",
       "id                                      \n",
       "1                      Low         Yes  \n",
       "2                      Low         Yes  \n",
       "3                      Low         Yes  \n",
       "4                      Low         Yes  \n",
       "5                      Low         Yes  \n",
       "...                    ...         ...  \n",
       "996                 Medium         Yes  \n",
       "997                   High         Yes  \n",
       "998                   High          No  \n",
       "999                   High         Yes  \n",
       "1000                Medium         Yes  \n",
       "\n",
       "[1000 rows x 8 columns]"
      ]
     },
     "execution_count": 20,
     "metadata": {},
     "output_type": "execute_result"
    }
   ],
   "source": [
    "generated_data = pd.read_csv(\"student_dropout_data.csv\", index_col='id')\n",
    "generated_data"
   ]
  },
  {
   "cell_type": "code",
   "execution_count": 21,
   "id": "f8866e47",
   "metadata": {},
   "outputs": [],
   "source": [
    "cols_to_encode = [\"sex\", \"urban/rural\", \"income\", \"Parents Qualification\", \"is dropout?\"]"
   ]
  },
  {
   "cell_type": "code",
   "execution_count": 22,
   "id": "08561daf",
   "metadata": {},
   "outputs": [],
   "source": [
    "df_encoded = pd.get_dummies(generated_data, columns=cols_to_encode, drop_first=True)"
   ]
  },
  {
   "cell_type": "code",
   "execution_count": 23,
   "id": "53e96572",
   "metadata": {},
   "outputs": [
    {
     "data": {
      "text/html": [
       "<div>\n",
       "<style scoped>\n",
       "    .dataframe tbody tr th:only-of-type {\n",
       "        vertical-align: middle;\n",
       "    }\n",
       "\n",
       "    .dataframe tbody tr th {\n",
       "        vertical-align: top;\n",
       "    }\n",
       "\n",
       "    .dataframe thead th {\n",
       "        text-align: right;\n",
       "    }\n",
       "</style>\n",
       "<table border=\"1\" class=\"dataframe\">\n",
       "  <thead>\n",
       "    <tr style=\"text-align: right;\">\n",
       "      <th></th>\n",
       "      <th>name</th>\n",
       "      <th>GPA</th>\n",
       "      <th>average attendance</th>\n",
       "      <th>sex_Male</th>\n",
       "      <th>urban/rural_Urban</th>\n",
       "      <th>income_Low</th>\n",
       "      <th>income_Medium</th>\n",
       "      <th>Parents Qualification_Low</th>\n",
       "      <th>Parents Qualification_Medium</th>\n",
       "      <th>is dropout?_Yes</th>\n",
       "    </tr>\n",
       "    <tr>\n",
       "      <th>id</th>\n",
       "      <th></th>\n",
       "      <th></th>\n",
       "      <th></th>\n",
       "      <th></th>\n",
       "      <th></th>\n",
       "      <th></th>\n",
       "      <th></th>\n",
       "      <th></th>\n",
       "      <th></th>\n",
       "      <th></th>\n",
       "    </tr>\n",
       "  </thead>\n",
       "  <tbody>\n",
       "    <tr>\n",
       "      <th>1</th>\n",
       "      <td>Student_1</td>\n",
       "      <td>3.984316</td>\n",
       "      <td>80.387606</td>\n",
       "      <td>1</td>\n",
       "      <td>0</td>\n",
       "      <td>0</td>\n",
       "      <td>0</td>\n",
       "      <td>1</td>\n",
       "      <td>0</td>\n",
       "      <td>1</td>\n",
       "    </tr>\n",
       "    <tr>\n",
       "      <th>2</th>\n",
       "      <td>Student_2</td>\n",
       "      <td>3.702850</td>\n",
       "      <td>64.765074</td>\n",
       "      <td>0</td>\n",
       "      <td>1</td>\n",
       "      <td>0</td>\n",
       "      <td>1</td>\n",
       "      <td>1</td>\n",
       "      <td>0</td>\n",
       "      <td>1</td>\n",
       "    </tr>\n",
       "    <tr>\n",
       "      <th>3</th>\n",
       "      <td>Student_3</td>\n",
       "      <td>2.417021</td>\n",
       "      <td>56.830045</td>\n",
       "      <td>1</td>\n",
       "      <td>1</td>\n",
       "      <td>0</td>\n",
       "      <td>0</td>\n",
       "      <td>1</td>\n",
       "      <td>0</td>\n",
       "      <td>1</td>\n",
       "    </tr>\n",
       "    <tr>\n",
       "      <th>4</th>\n",
       "      <td>Student_4</td>\n",
       "      <td>3.861190</td>\n",
       "      <td>82.581988</td>\n",
       "      <td>1</td>\n",
       "      <td>1</td>\n",
       "      <td>1</td>\n",
       "      <td>0</td>\n",
       "      <td>1</td>\n",
       "      <td>0</td>\n",
       "      <td>1</td>\n",
       "    </tr>\n",
       "    <tr>\n",
       "      <th>5</th>\n",
       "      <td>Student_5</td>\n",
       "      <td>2.232733</td>\n",
       "      <td>86.929873</td>\n",
       "      <td>1</td>\n",
       "      <td>1</td>\n",
       "      <td>1</td>\n",
       "      <td>0</td>\n",
       "      <td>1</td>\n",
       "      <td>0</td>\n",
       "      <td>1</td>\n",
       "    </tr>\n",
       "    <tr>\n",
       "      <th>...</th>\n",
       "      <td>...</td>\n",
       "      <td>...</td>\n",
       "      <td>...</td>\n",
       "      <td>...</td>\n",
       "      <td>...</td>\n",
       "      <td>...</td>\n",
       "      <td>...</td>\n",
       "      <td>...</td>\n",
       "      <td>...</td>\n",
       "      <td>...</td>\n",
       "    </tr>\n",
       "    <tr>\n",
       "      <th>996</th>\n",
       "      <td>Student_996</td>\n",
       "      <td>3.314707</td>\n",
       "      <td>95.530286</td>\n",
       "      <td>1</td>\n",
       "      <td>1</td>\n",
       "      <td>0</td>\n",
       "      <td>1</td>\n",
       "      <td>0</td>\n",
       "      <td>1</td>\n",
       "      <td>1</td>\n",
       "    </tr>\n",
       "    <tr>\n",
       "      <th>997</th>\n",
       "      <td>Student_997</td>\n",
       "      <td>2.944564</td>\n",
       "      <td>75.492700</td>\n",
       "      <td>1</td>\n",
       "      <td>0</td>\n",
       "      <td>0</td>\n",
       "      <td>0</td>\n",
       "      <td>0</td>\n",
       "      <td>0</td>\n",
       "      <td>1</td>\n",
       "    </tr>\n",
       "    <tr>\n",
       "      <th>998</th>\n",
       "      <td>Student_998</td>\n",
       "      <td>3.760313</td>\n",
       "      <td>75.063782</td>\n",
       "      <td>0</td>\n",
       "      <td>1</td>\n",
       "      <td>0</td>\n",
       "      <td>1</td>\n",
       "      <td>0</td>\n",
       "      <td>0</td>\n",
       "      <td>0</td>\n",
       "    </tr>\n",
       "    <tr>\n",
       "      <th>999</th>\n",
       "      <td>Student_999</td>\n",
       "      <td>2.431481</td>\n",
       "      <td>52.512150</td>\n",
       "      <td>0</td>\n",
       "      <td>1</td>\n",
       "      <td>0</td>\n",
       "      <td>0</td>\n",
       "      <td>0</td>\n",
       "      <td>0</td>\n",
       "      <td>1</td>\n",
       "    </tr>\n",
       "    <tr>\n",
       "      <th>1000</th>\n",
       "      <td>Student_1000</td>\n",
       "      <td>3.355626</td>\n",
       "      <td>51.745578</td>\n",
       "      <td>1</td>\n",
       "      <td>1</td>\n",
       "      <td>0</td>\n",
       "      <td>0</td>\n",
       "      <td>0</td>\n",
       "      <td>1</td>\n",
       "      <td>1</td>\n",
       "    </tr>\n",
       "  </tbody>\n",
       "</table>\n",
       "<p>1000 rows × 10 columns</p>\n",
       "</div>"
      ],
      "text/plain": [
       "              name       GPA  average attendance  sex_Male  urban/rural_Urban  \\\n",
       "id                                                                              \n",
       "1        Student_1  3.984316           80.387606         1                  0   \n",
       "2        Student_2  3.702850           64.765074         0                  1   \n",
       "3        Student_3  2.417021           56.830045         1                  1   \n",
       "4        Student_4  3.861190           82.581988         1                  1   \n",
       "5        Student_5  2.232733           86.929873         1                  1   \n",
       "...            ...       ...                 ...       ...                ...   \n",
       "996    Student_996  3.314707           95.530286         1                  1   \n",
       "997    Student_997  2.944564           75.492700         1                  0   \n",
       "998    Student_998  3.760313           75.063782         0                  1   \n",
       "999    Student_999  2.431481           52.512150         0                  1   \n",
       "1000  Student_1000  3.355626           51.745578         1                  1   \n",
       "\n",
       "      income_Low  income_Medium  Parents Qualification_Low  \\\n",
       "id                                                           \n",
       "1              0              0                          1   \n",
       "2              0              1                          1   \n",
       "3              0              0                          1   \n",
       "4              1              0                          1   \n",
       "5              1              0                          1   \n",
       "...          ...            ...                        ...   \n",
       "996            0              1                          0   \n",
       "997            0              0                          0   \n",
       "998            0              1                          0   \n",
       "999            0              0                          0   \n",
       "1000           0              0                          0   \n",
       "\n",
       "      Parents Qualification_Medium  is dropout?_Yes  \n",
       "id                                                   \n",
       "1                                0                1  \n",
       "2                                0                1  \n",
       "3                                0                1  \n",
       "4                                0                1  \n",
       "5                                0                1  \n",
       "...                            ...              ...  \n",
       "996                              1                1  \n",
       "997                              0                1  \n",
       "998                              0                0  \n",
       "999                              0                1  \n",
       "1000                             1                1  \n",
       "\n",
       "[1000 rows x 10 columns]"
      ]
     },
     "execution_count": 23,
     "metadata": {},
     "output_type": "execute_result"
    }
   ],
   "source": [
    "df_encoded"
   ]
  },
  {
   "cell_type": "code",
   "execution_count": 24,
   "id": "a368b5a7",
   "metadata": {},
   "outputs": [],
   "source": [
    "from sklearn.preprocessing import MinMaxScaler\n",
    "scaler = MinMaxScaler()\n",
    "\n",
    "df_encoded[[\"GPA\", \"average attendance\"]]= scaler.fit_transform(df_encoded[[\"GPA\", \"average attendance\"]])"
   ]
  },
  {
   "cell_type": "code",
   "execution_count": 25,
   "id": "7e1f191a",
   "metadata": {},
   "outputs": [
    {
     "name": "stdout",
     "output_type": "stream",
     "text": [
      "Logistic Regression Accuracy: 0.96\n"
     ]
    }
   ],
   "source": [
    "import pandas as pd\n",
    "from sklearn.model_selection import train_test_split\n",
    "from sklearn.linear_model import LogisticRegression\n",
    "from sklearn.metrics import accuracy_score\n",
    "\n",
    "X = df_encoded.drop(columns=[\"name\", \"is dropout?_Yes\"])\n",
    "y = df_encoded['is dropout?_Yes']\n",
    "\n",
    "X_train, X_test, y_train, y_test = train_test_split(X, y, test_size=0.2, stratify=y)\n",
    "\n",
    "model = LogisticRegression()\n",
    "model.fit(X_train, y_train)\n",
    "\n",
    "predictions = model.predict(X_test)\n",
    "\n",
    "accuracy = accuracy_score(y_test, predictions)\n",
    "print(\"Logistic Regression Accuracy:\", accuracy)"
   ]
  },
  {
   "cell_type": "code",
   "execution_count": 26,
   "id": "82e4b347",
   "metadata": {},
   "outputs": [
    {
     "data": {
      "text/plain": [
       "array([[  2,   8],\n",
       "       [  0, 190]], dtype=int64)"
      ]
     },
     "execution_count": 26,
     "metadata": {},
     "output_type": "execute_result"
    }
   ],
   "source": [
    "from sklearn.metrics import confusion_matrix, accuracy_score, precision_score, recall_score, f1_score, classification_report\n",
    "\n",
    "cm = confusion_matrix(y_test, predictions)\n",
    "cm"
   ]
  },
  {
   "cell_type": "code",
   "execution_count": 27,
   "id": "21fb25a7",
   "metadata": {},
   "outputs": [
    {
     "data": {
      "image/png": "[encoded data removed]",
      "text/plain": [
       "<Figure size 800x600 with 1 Axes>"
      ]
     },
     "metadata": {},
     "output_type": "display_data"
    }
   ],
   "source": [
    "import seaborn as sns\n",
    "plt.figure(figsize=(8, 6))\n",
    "sns.heatmap(cm, annot=True, fmt='d', cmap='Blues', cbar=False,\n",
    "            xticklabels=['Predicted 0', 'Predicted 1'],\n",
    "            yticklabels=['Actual 0', 'Actual 1'])\n",
    "plt.title('Confusion Matrix')\n",
    "plt.xlabel('Predicted label')\n",
    "plt.ylabel('True label')\n",
    "plt.show()"
   ]
  },
  {
   "cell_type": "code",
   "execution_count": 28,
   "id": "650978c5",
   "metadata": {},
   "outputs": [
    {
     "name": "stdout",
     "output_type": "stream",
     "text": [
      "              precision    recall  f1-score   support\n",
      "\n",
      "           0       1.00      0.20      0.33        10\n",
      "           1       0.96      1.00      0.98       190\n",
      "\n",
      "    accuracy                           0.96       200\n",
      "   macro avg       0.98      0.60      0.66       200\n",
      "weighted avg       0.96      0.96      0.95       200\n",
      "\n"
     ]
    }
   ],
   "source": [
    "print(classification_report(y_test, predictions))"
   ]
  },
  {
   "cell_type": "code",
   "execution_count": 29,
   "id": "af79e5a8",
   "metadata": {},
   "outputs": [],
   "source": [
    "from imblearn.over_sampling import SMOTE\n",
    "\n",
    "smote = SMOTE(sampling_strategy='auto', random_state=42)\n",
    "X_resampled, y_resampled = smote.fit_resample(X, y)\n",
    "X_train, X_test, y_train, y_test = train_test_split(X_resampled, y_resampled, test_size=0.2, stratify=y_resampled)\n"
   ]
  },
  {
   "cell_type": "markdown",
   "id": "184b6c64",
   "metadata": {},
   "source": [
    "# Logistic Regression Model"
   ]
  },
  {
   "cell_type": "code",
   "execution_count": 30,
   "id": "a2778d20",
   "metadata": {},
   "outputs": [
    {
     "name": "stdout",
     "output_type": "stream",
     "text": [
      "Logistic Regression Accuracy: 0.9657894736842105\n"
     ]
    }
   ],
   "source": [
    "\n",
    "model = LogisticRegression()\n",
    "model.fit(X_train, y_train)\n",
    "\n",
    "predictions = model.predict(X_test)\n",
    "\n",
    "accuracy = accuracy_score(y_test, predictions)\n",
    "print(\"Logistic Regression Accuracy:\", accuracy)"
   ]
  },
  {
   "cell_type": "code",
   "execution_count": 31,
   "id": "ee168002",
   "metadata": {},
   "outputs": [
    {
     "name": "stdout",
     "output_type": "stream",
     "text": [
      "              precision    recall  f1-score   support\n",
      "\n",
      "           0       0.94      1.00      0.97       190\n",
      "           1       1.00      0.93      0.96       190\n",
      "\n",
      "    accuracy                           0.97       380\n",
      "   macro avg       0.97      0.97      0.97       380\n",
      "weighted avg       0.97      0.97      0.97       380\n",
      "\n"
     ]
    }
   ],
   "source": [
    "print(classification_report(y_test, predictions))"
   ]
  },
  {
   "cell_type": "code",
   "execution_count": 32,
   "id": "d50bc8d7",
   "metadata": {},
   "outputs": [
    {
     "data": {
      "image/png": "[encoded data removed]",
      "text/plain": [
       "<Figure size 800x600 with 1 Axes>"
      ]
     },
     "metadata": {},
     "output_type": "display_data"
    }
   ],
   "source": [
    "cm = confusion_matrix(y_test, predictions)\n",
    "\n",
    "plt.figure(figsize=(8, 6))\n",
    "sns.heatmap(cm, annot=True, fmt='d', cmap='Blues', cbar=False,\n",
    "            xticklabels=['Predicted 0', 'Predicted 1'],\n",
    "            yticklabels=['Actual 0', 'Actual 1'])\n",
    "plt.title('Confusion Matrix')\n",
    "plt.xlabel('Predicted label')\n",
    "plt.ylabel('True label')\n",
    "plt.show()"
   ]
  },
  {
   "cell_type": "code",
   "execution_count": 33,
   "id": "9210dc82",
   "metadata": {},
   "outputs": [
    {
     "name": "stdout",
     "output_type": "stream",
     "text": [
      "              precision    recall  f1-score   support\n",
      "\n",
      "           0       0.92      0.99      0.96       190\n",
      "           1       0.99      0.92      0.95       190\n",
      "\n",
      "    accuracy                           0.96       380\n",
      "   macro avg       0.96      0.96      0.96       380\n",
      "weighted avg       0.96      0.96      0.96       380\n",
      "\n"
     ]
    }
   ],
   "source": [
    "tree_model = DecisionTreeClassifier(max_depth=3)  # You may adjust max_depth\n",
    "tree_model.fit(X_train, y_train)\n",
    "\n",
    "# Make predictions\n",
    "tree_predictions = tree_model.predict(X_test)\n",
    "\n",
    "print(classification_report(y_test, tree_predictions))"
   ]
  },
  {
   "cell_type": "code",
   "execution_count": 34,
   "id": "15347e6b",
   "metadata": {},
   "outputs": [
    {
     "name": "stdout",
     "output_type": "stream",
     "text": [
      "              precision    recall  f1-score   support\n",
      "\n",
      "           0       1.00      1.00      1.00       190\n",
      "           1       1.00      1.00      1.00       190\n",
      "\n",
      "    accuracy                           1.00       380\n",
      "   macro avg       1.00      1.00      1.00       380\n",
      "weighted avg       1.00      1.00      1.00       380\n",
      "\n"
     ]
    }
   ],
   "source": [
    "forest_model = RandomForestClassifier(n_estimators=100)  # You may adjust n_estimators\n",
    "forest_model.fit(X_train, y_train)\n",
    "\n",
    "# Make predictions\n",
    "forest_predictions = forest_model.predict(X_test)\n",
    "\n",
    "\n",
    "print(classification_report(y_test, forest_predictions))"
   ]
  },
  {
   "cell_type": "code",
   "execution_count": 35,
   "id": "9e299614",
   "metadata": {},
   "outputs": [
    {
     "name": "stderr",
     "output_type": "stream",
     "text": [
      "C:\\Users\\DELL\\anaconda3\\Lib\\site-packages\\sklearn\\base.py:439: UserWarning: X does not have valid feature names, but RandomForestClassifier was fitted with feature names\n",
      "  warnings.warn(\n"
     ]
    },
    {
     "data": {
      "text/plain": [
       "array([[0., 1.]])"
      ]
     },
     "execution_count": 35,
     "metadata": {},
     "output_type": "execute_result"
    }
   ],
   "source": [
    "forest_model.predict_proba([[1, 1, 1, 0, 1, 0, 1, 0]])"
   ]
  },
  {
   "cell_type": "code",
   "execution_count": 36,
   "id": "518b5115",
   "metadata": {},
   "outputs": [
    {
     "data": {
      "text/plain": [
       "array([0.3068922 , 0.24158246, 0.01208942, 0.05418598, 0.0276212 ,\n",
       "       0.02640302, 0.17675483, 0.15447089])"
      ]
     },
     "execution_count": 36,
     "metadata": {},
     "output_type": "execute_result"
    }
   ],
   "source": [
    "forest_model.feature_importances_"
   ]
  },
  {
   "cell_type": "code",
   "execution_count": 37,
   "id": "02ae5317",
   "metadata": {},
   "outputs": [
    {
     "name": "stderr",
     "output_type": "stream",
     "text": [
      "C:\\Users\\DELL\\anaconda3\\Lib\\site-packages\\sklearn\\base.py:439: UserWarning: X does not have valid feature names, but RandomForestClassifier was fitted with feature names\n",
      "  warnings.warn(\n"
     ]
    },
    {
     "data": {
      "text/plain": [
       "array([[0.82, 0.18]])"
      ]
     },
     "execution_count": 37,
     "metadata": {},
     "output_type": "execute_result"
    }
   ],
   "source": [
    "forest_model.predict_proba([X_test.iloc[2]])"
   ]
  },
  {
   "cell_type": "code",
   "execution_count": 38,
   "id": "3b486f05",
   "metadata": {},
   "outputs": [
    {
     "data": {
      "text/html": [
       "<div>\n",
       "<style scoped>\n",
       "    .dataframe tbody tr th:only-of-type {\n",
       "        vertical-align: middle;\n",
       "    }\n",
       "\n",
       "    .dataframe tbody tr th {\n",
       "        vertical-align: top;\n",
       "    }\n",
       "\n",
       "    .dataframe thead th {\n",
       "        text-align: right;\n",
       "    }\n",
       "</style>\n",
       "<table border=\"1\" class=\"dataframe\">\n",
       "  <thead>\n",
       "    <tr style=\"text-align: right;\">\n",
       "      <th></th>\n",
       "      <th>GPA</th>\n",
       "      <th>average attendance</th>\n",
       "      <th>sex_Male</th>\n",
       "      <th>urban/rural_Urban</th>\n",
       "      <th>income_Low</th>\n",
       "      <th>income_Medium</th>\n",
       "      <th>Parents Qualification_Low</th>\n",
       "      <th>Parents Qualification_Medium</th>\n",
       "      <th>is dropout?_Yes</th>\n",
       "    </tr>\n",
       "  </thead>\n",
       "  <tbody>\n",
       "    <tr>\n",
       "      <th>1226</th>\n",
       "      <td>0.864061</td>\n",
       "      <td>0.731385</td>\n",
       "      <td>0</td>\n",
       "      <td>0</td>\n",
       "      <td>0</td>\n",
       "      <td>0</td>\n",
       "      <td>0</td>\n",
       "      <td>0</td>\n",
       "      <td>0</td>\n",
       "    </tr>\n",
       "    <tr>\n",
       "      <th>1865</th>\n",
       "      <td>0.532836</td>\n",
       "      <td>0.849664</td>\n",
       "      <td>1</td>\n",
       "      <td>1</td>\n",
       "      <td>1</td>\n",
       "      <td>0</td>\n",
       "      <td>0</td>\n",
       "      <td>0</td>\n",
       "      <td>0</td>\n",
       "    </tr>\n",
       "    <tr>\n",
       "      <th>1520</th>\n",
       "      <td>0.622290</td>\n",
       "      <td>0.713162</td>\n",
       "      <td>0</td>\n",
       "      <td>0</td>\n",
       "      <td>0</td>\n",
       "      <td>0</td>\n",
       "      <td>0</td>\n",
       "      <td>0</td>\n",
       "      <td>0</td>\n",
       "    </tr>\n",
       "    <tr>\n",
       "      <th>1374</th>\n",
       "      <td>0.952417</td>\n",
       "      <td>0.691456</td>\n",
       "      <td>0</td>\n",
       "      <td>1</td>\n",
       "      <td>1</td>\n",
       "      <td>0</td>\n",
       "      <td>0</td>\n",
       "      <td>0</td>\n",
       "      <td>0</td>\n",
       "    </tr>\n",
       "    <tr>\n",
       "      <th>1866</th>\n",
       "      <td>0.801581</td>\n",
       "      <td>0.731780</td>\n",
       "      <td>1</td>\n",
       "      <td>0</td>\n",
       "      <td>0</td>\n",
       "      <td>0</td>\n",
       "      <td>0</td>\n",
       "      <td>0</td>\n",
       "      <td>0</td>\n",
       "    </tr>\n",
       "    <tr>\n",
       "      <th>...</th>\n",
       "      <td>...</td>\n",
       "      <td>...</td>\n",
       "      <td>...</td>\n",
       "      <td>...</td>\n",
       "      <td>...</td>\n",
       "      <td>...</td>\n",
       "      <td>...</td>\n",
       "      <td>...</td>\n",
       "      <td>...</td>\n",
       "    </tr>\n",
       "    <tr>\n",
       "      <th>1623</th>\n",
       "      <td>0.708119</td>\n",
       "      <td>0.703651</td>\n",
       "      <td>0</td>\n",
       "      <td>1</td>\n",
       "      <td>0</td>\n",
       "      <td>1</td>\n",
       "      <td>0</td>\n",
       "      <td>0</td>\n",
       "      <td>0</td>\n",
       "    </tr>\n",
       "    <tr>\n",
       "      <th>201</th>\n",
       "      <td>0.938931</td>\n",
       "      <td>0.580341</td>\n",
       "      <td>0</td>\n",
       "      <td>0</td>\n",
       "      <td>0</td>\n",
       "      <td>1</td>\n",
       "      <td>0</td>\n",
       "      <td>0</td>\n",
       "      <td>1</td>\n",
       "    </tr>\n",
       "    <tr>\n",
       "      <th>1099</th>\n",
       "      <td>0.741439</td>\n",
       "      <td>0.934768</td>\n",
       "      <td>1</td>\n",
       "      <td>1</td>\n",
       "      <td>1</td>\n",
       "      <td>0</td>\n",
       "      <td>0</td>\n",
       "      <td>0</td>\n",
       "      <td>0</td>\n",
       "    </tr>\n",
       "    <tr>\n",
       "      <th>1067</th>\n",
       "      <td>0.747576</td>\n",
       "      <td>0.938752</td>\n",
       "      <td>1</td>\n",
       "      <td>1</td>\n",
       "      <td>0</td>\n",
       "      <td>0</td>\n",
       "      <td>0</td>\n",
       "      <td>0</td>\n",
       "      <td>0</td>\n",
       "    </tr>\n",
       "    <tr>\n",
       "      <th>726</th>\n",
       "      <td>0.375089</td>\n",
       "      <td>0.323162</td>\n",
       "      <td>1</td>\n",
       "      <td>0</td>\n",
       "      <td>0</td>\n",
       "      <td>0</td>\n",
       "      <td>1</td>\n",
       "      <td>0</td>\n",
       "      <td>1</td>\n",
       "    </tr>\n",
       "  </tbody>\n",
       "</table>\n",
       "<p>380 rows × 9 columns</p>\n",
       "</div>"
      ],
      "text/plain": [
       "           GPA  average attendance  sex_Male  urban/rural_Urban  income_Low  \\\n",
       "1226  0.864061            0.731385         0                  0           0   \n",
       "1865  0.532836            0.849664         1                  1           1   \n",
       "1520  0.622290            0.713162         0                  0           0   \n",
       "1374  0.952417            0.691456         0                  1           1   \n",
       "1866  0.801581            0.731780         1                  0           0   \n",
       "...        ...                 ...       ...                ...         ...   \n",
       "1623  0.708119            0.703651         0                  1           0   \n",
       "201   0.938931            0.580341         0                  0           0   \n",
       "1099  0.741439            0.934768         1                  1           1   \n",
       "1067  0.747576            0.938752         1                  1           0   \n",
       "726   0.375089            0.323162         1                  0           0   \n",
       "\n",
       "      income_Medium  Parents Qualification_Low  Parents Qualification_Medium  \\\n",
       "1226              0                          0                             0   \n",
       "1865              0                          0                             0   \n",
       "1520              0                          0                             0   \n",
       "1374              0                          0                             0   \n",
       "1866              0                          0                             0   \n",
       "...             ...                        ...                           ...   \n",
       "1623              1                          0                             0   \n",
       "201               1                          0                             0   \n",
       "1099              0                          0                             0   \n",
       "1067              0                          0                             0   \n",
       "726               0                          1                             0   \n",
       "\n",
       "      is dropout?_Yes  \n",
       "1226                0  \n",
       "1865                0  \n",
       "1520                0  \n",
       "1374                0  \n",
       "1866                0  \n",
       "...               ...  \n",
       "1623                0  \n",
       "201                 1  \n",
       "1099                0  \n",
       "1067                0  \n",
       "726                 1  \n",
       "\n",
       "[380 rows x 9 columns]"
      ]
     },
     "execution_count": 38,
     "metadata": {},
     "output_type": "execute_result"
    }
   ],
   "source": [
    "pd.concat([X_test, y_test], axis=1)"
   ]
  },
  {
   "cell_type": "code",
   "execution_count": 39,
   "id": "305c1323",
   "metadata": {},
   "outputs": [],
   "source": [
    "import tensorflow as tf\n",
    "import tensorflow.keras\n",
    "from tensorflow.keras import layers, Sequential"
   ]
  },
  {
   "cell_type": "code",
   "execution_count": 40,
   "id": "a60a058a",
   "metadata": {},
   "outputs": [],
   "source": [
    "model = Sequential([\n",
    "    layers.InputLayer(input_shape=(8,)),\n",
    "    layers.Dense(units=10, activation='relu'),\n",
    "    layers.Dense(units=1, activation='sigmoid')\n",
    "])\n",
    "\n",
    "model.compile(optimizer='adam', loss='binary_crossentropy', metrics=['accuracy'])"
   ]
  },
  {
   "cell_type": "code",
   "execution_count": 41,
   "id": "5b066675",
   "metadata": {},
   "outputs": [],
   "source": [
    "X_train, X_temp, y_train, y_temp = train_test_split(X_resampled, y_resampled, test_size=0.2, random_state=42)\n",
    "X_test, X_val, y_test, y_val = train_test_split(X_temp, y_temp, test_size=0.5, random_state=42)"
   ]
  },
  {
   "cell_type": "code",
   "execution_count": 42,
   "id": "e660479e",
   "metadata": {},
   "outputs": [
    {
     "name": "stdout",
     "output_type": "stream",
     "text": [
      "Epoch 1/25\n",
      "31/31 [==============================] - 2s 18ms/step - loss: 0.6917 - accuracy: 0.5507 - val_loss: 0.6375 - val_accuracy: 0.6579\n",
      "Epoch 2/25\n",
      "31/31 [==============================] - 0s 5ms/step - loss: 0.6340 - accuracy: 0.6592 - val_loss: 0.5942 - val_accuracy: 0.8000\n",
      "Epoch 3/25\n",
      "31/31 [==============================] - 0s 5ms/step - loss: 0.5882 - accuracy: 0.7901 - val_loss: 0.5547 - val_accuracy: 0.8632\n",
      "Epoch 4/25\n",
      "31/31 [==============================] - 0s 5ms/step - loss: 0.5464 - accuracy: 0.8434 - val_loss: 0.5157 - val_accuracy: 0.8632\n",
      "Epoch 5/25\n",
      "31/31 [==============================] - 0s 5ms/step - loss: 0.5060 - accuracy: 0.8724 - val_loss: 0.4772 - val_accuracy: 0.8789\n",
      "Epoch 6/25\n",
      "31/31 [==============================] - 0s 6ms/step - loss: 0.4668 - accuracy: 0.8796 - val_loss: 0.4408 - val_accuracy: 0.9000\n",
      "Epoch 7/25\n",
      "31/31 [==============================] - 0s 5ms/step - loss: 0.4315 - accuracy: 0.8987 - val_loss: 0.4074 - val_accuracy: 0.8947\n",
      "Epoch 8/25\n",
      "31/31 [==============================] - 0s 5ms/step - loss: 0.3989 - accuracy: 0.8928 - val_loss: 0.3770 - val_accuracy: 0.8947\n",
      "Epoch 9/25\n",
      "31/31 [==============================] - 0s 5ms/step - loss: 0.3704 - accuracy: 0.8980 - val_loss: 0.3492 - val_accuracy: 0.8947\n",
      "Epoch 10/25\n",
      "31/31 [==============================] - 0s 5ms/step - loss: 0.3449 - accuracy: 0.9026 - val_loss: 0.3249 - val_accuracy: 0.9000\n",
      "Epoch 11/25\n",
      "31/31 [==============================] - 0s 5ms/step - loss: 0.3224 - accuracy: 0.9072 - val_loss: 0.3038 - val_accuracy: 0.9053\n",
      "Epoch 12/25\n",
      "31/31 [==============================] - 0s 5ms/step - loss: 0.3029 - accuracy: 0.9105 - val_loss: 0.2862 - val_accuracy: 0.9158\n",
      "Epoch 13/25\n",
      "31/31 [==============================] - 0s 5ms/step - loss: 0.2861 - accuracy: 0.9072 - val_loss: 0.2701 - val_accuracy: 0.9158\n",
      "Epoch 14/25\n",
      "31/31 [==============================] - 0s 5ms/step - loss: 0.2713 - accuracy: 0.9132 - val_loss: 0.2559 - val_accuracy: 0.9158\n",
      "Epoch 15/25\n",
      "31/31 [==============================] - 0s 5ms/step - loss: 0.2582 - accuracy: 0.9184 - val_loss: 0.2441 - val_accuracy: 0.9316\n",
      "Epoch 16/25\n",
      "31/31 [==============================] - 0s 5ms/step - loss: 0.2465 - accuracy: 0.9224 - val_loss: 0.2329 - val_accuracy: 0.9316\n",
      "Epoch 17/25\n",
      "31/31 [==============================] - 0s 5ms/step - loss: 0.2365 - accuracy: 0.9230 - val_loss: 0.2232 - val_accuracy: 0.9316\n",
      "Epoch 18/25\n",
      "31/31 [==============================] - 0s 5ms/step - loss: 0.2272 - accuracy: 0.9276 - val_loss: 0.2156 - val_accuracy: 0.9421\n",
      "Epoch 19/25\n",
      "31/31 [==============================] - 0s 5ms/step - loss: 0.2190 - accuracy: 0.9316 - val_loss: 0.2081 - val_accuracy: 0.9474\n",
      "Epoch 20/25\n",
      "31/31 [==============================] - 0s 5ms/step - loss: 0.2114 - accuracy: 0.9336 - val_loss: 0.1999 - val_accuracy: 0.9474\n",
      "Epoch 21/25\n",
      "31/31 [==============================] - 0s 5ms/step - loss: 0.2041 - accuracy: 0.9336 - val_loss: 0.1936 - val_accuracy: 0.9474\n",
      "Epoch 22/25\n",
      "31/31 [==============================] - 0s 5ms/step - loss: 0.1974 - accuracy: 0.9382 - val_loss: 0.1882 - val_accuracy: 0.9474\n",
      "Epoch 23/25\n",
      "31/31 [==============================] - 0s 5ms/step - loss: 0.1910 - accuracy: 0.9355 - val_loss: 0.1812 - val_accuracy: 0.9474\n",
      "Epoch 24/25\n",
      "31/31 [==============================] - 0s 5ms/step - loss: 0.1848 - accuracy: 0.9414 - val_loss: 0.1761 - val_accuracy: 0.9474\n",
      "Epoch 25/25\n",
      "31/31 [==============================] - 0s 5ms/step - loss: 0.1798 - accuracy: 0.9447 - val_loss: 0.1724 - val_accuracy: 0.9526\n"
     ]
    },
    {
     "data": {
      "text/plain": [
       "<keras.src.callbacks.History at 0x1f7d7532190>"
      ]
     },
     "execution_count": 42,
     "metadata": {},
     "output_type": "execute_result"
    }
   ],
   "source": [
    "model.fit(X_train, y_train, epochs=25, batch_size=50, validation_data=(X_val, y_val))"
   ]
  },
  {
   "cell_type": "code",
   "execution_count": 43,
   "id": "c312fdd7",
   "metadata": {},
   "outputs": [
    {
     "name": "stdout",
     "output_type": "stream",
     "text": [
      "6/6 [==============================] - 0s 3ms/step - loss: 0.2190 - accuracy: 0.9158\n"
     ]
    },
    {
     "data": {
      "text/plain": [
       "[0.2190036028623581, 0.9157894849777222]"
      ]
     },
     "execution_count": 43,
     "metadata": {},
     "output_type": "execute_result"
    }
   ],
   "source": [
    "model.evaluate(X_test, y_test)"
   ]
  },
  {
   "cell_type": "code",
   "execution_count": 44,
   "id": "4be367e2",
   "metadata": {},
   "outputs": [
    {
     "name": "stdout",
     "output_type": "stream",
     "text": [
      "6/6 [==============================] - 0s 3ms/step\n"
     ]
    }
   ],
   "source": [
    "predict = model.predict(X_test)\n",
    "def get_ans(x):\n",
    "    if x[0]>=0.5:\n",
    "        return 1\n",
    "    else:\n",
    "        return 0\n",
    "predict = list(map(get_ans, predict))"
   ]
  },
  {
   "cell_type": "code",
   "execution_count": 45,
   "id": "212828a7",
   "metadata": {},
   "outputs": [
    {
     "name": "stdout",
     "output_type": "stream",
     "text": [
      "              precision    recall  f1-score   support\n",
      "\n",
      "           0       0.85      1.00      0.92        94\n",
      "           1       1.00      0.83      0.91        96\n",
      "\n",
      "    accuracy                           0.92       190\n",
      "   macro avg       0.93      0.92      0.92       190\n",
      "weighted avg       0.93      0.92      0.92       190\n",
      "\n"
     ]
    }
   ],
   "source": [
    "print(classification_report(y_test, predict))"
   ]
  },
  {
   "cell_type": "code",
   "execution_count": 46,
   "id": "c05fb93f",
   "metadata": {},
   "outputs": [],
   "source": [
    "model_rnn = Sequential()\n",
    "model_rnn.add(layers.LSTM(64, input_shape=(1,8), activation='relu')),\n",
    "model_rnn.add(layers.Dense(10, activation='relu'))\n",
    "model_rnn.add(layers.Dense(1, activation='sigmoid'))\n",
    "model_rnn.compile(optimizer='adam', loss='binary_crossentropy', metrics=['accuracy'])"
   ]
  },
  {
   "cell_type": "code",
   "execution_count": 47,
   "id": "d966c8d8",
   "metadata": {},
   "outputs": [],
   "source": [
    "new_X_train = np.array(X_train).reshape(X_train.shape[0], 1, X_train.shape[1])\n",
    "new_X_test = np.array(X_test).reshape(X_test.shape[0], 1, X_test.shape[1])\n",
    "new_X_val = np.array(X_val).reshape(X_val.shape[0], 1, X_val.shape[1])"
   ]
  },
  {
   "cell_type": "code",
   "execution_count": 48,
   "id": "84ae9fbb",
   "metadata": {},
   "outputs": [
    {
     "name": "stdout",
     "output_type": "stream",
     "text": [
      "Epoch 1/10\n",
      "31/31 [==============================] - 5s 30ms/step - loss: 0.6841 - accuracy: 0.6967 - val_loss: 0.6681 - val_accuracy: 0.9316\n",
      "Epoch 2/10\n",
      "31/31 [==============================] - 0s 8ms/step - loss: 0.6433 - accuracy: 0.9382 - val_loss: 0.6047 - val_accuracy: 0.9526\n",
      "Epoch 3/10\n",
      "31/31 [==============================] - 0s 7ms/step - loss: 0.5479 - accuracy: 0.9270 - val_loss: 0.4712 - val_accuracy: 0.9474\n",
      "Epoch 4/10\n",
      "31/31 [==============================] - 0s 7ms/step - loss: 0.3935 - accuracy: 0.9217 - val_loss: 0.3091 - val_accuracy: 0.9421\n",
      "Epoch 5/10\n",
      "31/31 [==============================] - 0s 7ms/step - loss: 0.2638 - accuracy: 0.9224 - val_loss: 0.2138 - val_accuracy: 0.9474\n",
      "Epoch 6/10\n",
      "31/31 [==============================] - 0s 7ms/step - loss: 0.1973 - accuracy: 0.9388 - val_loss: 0.1686 - val_accuracy: 0.9474\n",
      "Epoch 7/10\n",
      "31/31 [==============================] - 0s 7ms/step - loss: 0.1637 - accuracy: 0.9441 - val_loss: 0.1441 - val_accuracy: 0.9579\n",
      "Epoch 8/10\n",
      "31/31 [==============================] - 0s 7ms/step - loss: 0.1397 - accuracy: 0.9526 - val_loss: 0.1298 - val_accuracy: 0.9684\n",
      "Epoch 9/10\n",
      "31/31 [==============================] - 0s 7ms/step - loss: 0.1239 - accuracy: 0.9579 - val_loss: 0.1161 - val_accuracy: 0.9684\n",
      "Epoch 10/10\n",
      "31/31 [==============================] - 0s 7ms/step - loss: 0.1077 - accuracy: 0.9632 - val_loss: 0.1116 - val_accuracy: 0.9684\n"
     ]
    },
    {
     "data": {
      "text/plain": [
       "<keras.src.callbacks.History at 0x1f7e1231390>"
      ]
     },
     "execution_count": 48,
     "metadata": {},
     "output_type": "execute_result"
    }
   ],
   "source": [
    "model_rnn.fit(new_X_train, y_train, epochs=10, batch_size=50, validation_data=(new_X_val, y_val))"
   ]
  },
  {
   "cell_type": "code",
   "execution_count": 49,
   "id": "804d0c05",
   "metadata": {},
   "outputs": [
    {
     "name": "stdout",
     "output_type": "stream",
     "text": [
      "6/6 [==============================] - 0s 3ms/step\n"
     ]
    }
   ],
   "source": [
    "predict = model_rnn.predict(new_X_test)\n",
    "def get_ans(x):\n",
    "    if x[0]>=0.5:\n",
    "        return 1\n",
    "    else:\n",
    "        return 0\n",
    "predict = list(map(get_ans, predict))"
   ]
  },
  {
   "cell_type": "code",
   "execution_count": 50,
   "id": "0f351842",
   "metadata": {},
   "outputs": [
    {
     "name": "stdout",
     "output_type": "stream",
     "text": [
      "              precision    recall  f1-score   support\n",
      "\n",
      "           0       0.93      0.99      0.96        94\n",
      "           1       0.99      0.93      0.96        96\n",
      "\n",
      "    accuracy                           0.96       190\n",
      "   macro avg       0.96      0.96      0.96       190\n",
      "weighted avg       0.96      0.96      0.96       190\n",
      "\n"
     ]
    }
   ],
   "source": [
    "print(classification_report(y_test, predict))"
   ]
  },
  {
   "cell_type": "code",
   "execution_count": null,
   "id": "e101b33f",
   "metadata": {},
   "outputs": [],
   "source": []
  },
  {
   "cell_type": "code",
   "execution_count": null,
   "id": "7fce7533",
   "metadata": {},
   "outputs": [],
   "source": []
  },
  {
   "cell_type": "code",
   "execution_count": null,
   "id": "663eb511",
   "metadata": {},
   "outputs": [],
   "source": []
  },
  {
   "cell_type": "code",
   "execution_count": null,
   "id": "246a5c8e",
   "metadata": {},
   "outputs": [],
   "source": []
  },
  {
   "cell_type": "code",
   "execution_count": null,
   "id": "6505b45a",
   "metadata": {},
   "outputs": [],
   "source": []
  },
  {
   "cell_type": "code",
   "execution_count": null,
   "id": "705f8adb",
   "metadata": {},
   "outputs": [],
   "source": []
  },
  {
   "cell_type": "code",
   "execution_count": null,
   "id": "281f1550",
   "metadata": {},
   "outputs": [],
   "source": []
  },
  {
   "cell_type": "code",
   "execution_count": null,
   "id": "095e7ac6",
   "metadata": {},
   "outputs": [],
   "source": []
  },
  {
   "cell_type": "code",
   "execution_count": null,
   "id": "694c682e",
   "metadata": {},
   "outputs": [],
   "source": []
  }
 ],
 "metadata": {
  "kernelspec": {
   "display_name": "Python 3 (ipykernel)",
   "language": "python",
   "name": "python3"
  },
  "language_info": {
   "codemirror_mode": {
    "name": "ipython",
    "version": 3
   },
   "file_extension": ".py",
   "mimetype": "text/x-python",
   "name": "python",
   "nbconvert_exporter": "python",
   "pygments_lexer": "ipython3",
   "version": "3.11.4"
  }
 },
 "nbformat": 4,
 "nbformat_minor": 5
}
