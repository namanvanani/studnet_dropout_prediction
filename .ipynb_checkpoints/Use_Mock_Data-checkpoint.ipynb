{
 "cells": [
  {
   "cell_type": "code",
   "execution_count": 17,
   "id": "eee75564",
   "metadata": {},
   "outputs": [],
   "source": [
    "import pandas as pd\n",
    "import numpy as np\n",
    "import matplotlib.pyplot as plt"
   ]
  },
  {
   "cell_type": "code",
   "execution_count": 43,
   "id": "3fce979b",
   "metadata": {},
   "outputs": [],
   "source": [
    "df = pd.read_csv('MOCK_DATA (1).csv', index_col=\"Id\")"
   ]
  },
  {
   "cell_type": "code",
   "execution_count": 44,
   "id": "68f873c8",
   "metadata": {},
   "outputs": [],
   "source": [
    "quali = list(df[\"parents qualification\"].unique())"
   ]
  },
  {
   "cell_type": "code",
   "execution_count": 45,
   "id": "24172d2b",
   "metadata": {},
   "outputs": [],
   "source": [
    "def set_sex(x):\n",
    "    if x==\"Male\":\n",
    "        return 1\n",
    "    elif x==\"Female\":\n",
    "        return 0\n",
    "    else:\n",
    "        return np.random.randint(2)\n",
    "    \n",
    "def set_area(x):\n",
    "    if x==\"urban\":\n",
    "        return 1\n",
    "    else:\n",
    "        return 0\n",
    "\n",
    "def set_parents_quali(x):\n",
    "    if x==quali[0]:\n",
    "        return 0\n",
    "    elif x==quali[1]:\n",
    "        return 1\n",
    "    else:\n",
    "        return 2\n",
    "\n",
    "def set_dropout(x):\n",
    "    if x==True:\n",
    "        return 1\n",
    "    else:\n",
    "        return 0"
   ]
  },
  {
   "cell_type": "code",
   "execution_count": 46,
   "id": "9834a155",
   "metadata": {},
   "outputs": [],
   "source": [
    "df[\"sex\"] = df[\"sex\"].apply(set_sex)\n",
    "df[\"urban/rural\"] = df[\"urban/rural\"].apply(set_area)\n",
    "df[\"parents qualification\"] = df[\"parents qualification\"].apply(set_parents_quali)\n",
    "df[\"dropout\"] = df[\"dropout\"].apply(set_dropout)"
   ]
  },
  {
   "cell_type": "code",
   "execution_count": 47,
   "id": "c089b939",
   "metadata": {},
   "outputs": [
    {
     "data": {
      "text/html": [
       "<div>\n",
       "<style scoped>\n",
       "    .dataframe tbody tr th:only-of-type {\n",
       "        vertical-align: middle;\n",
       "    }\n",
       "\n",
       "    .dataframe tbody tr th {\n",
       "        vertical-align: top;\n",
       "    }\n",
       "\n",
       "    .dataframe thead th {\n",
       "        text-align: right;\n",
       "    }\n",
       "</style>\n",
       "<table border=\"1\" class=\"dataframe\">\n",
       "  <thead>\n",
       "    <tr style=\"text-align: right;\">\n",
       "      <th></th>\n",
       "      <th>name</th>\n",
       "      <th>sex</th>\n",
       "      <th>urban/rural</th>\n",
       "      <th>income</th>\n",
       "      <th>GPA</th>\n",
       "      <th>parents qualification</th>\n",
       "      <th>average attendance</th>\n",
       "      <th>dropout</th>\n",
       "    </tr>\n",
       "    <tr>\n",
       "      <th>Id</th>\n",
       "      <th></th>\n",
       "      <th></th>\n",
       "      <th></th>\n",
       "      <th></th>\n",
       "      <th></th>\n",
       "      <th></th>\n",
       "      <th></th>\n",
       "      <th></th>\n",
       "    </tr>\n",
       "  </thead>\n",
       "  <tbody>\n",
       "    <tr>\n",
       "      <th>1</th>\n",
       "      <td>Helenelizabeth</td>\n",
       "      <td>0</td>\n",
       "      <td>0</td>\n",
       "      <td>114586</td>\n",
       "      <td>3.8</td>\n",
       "      <td>0</td>\n",
       "      <td>81</td>\n",
       "      <td>1</td>\n",
       "    </tr>\n",
       "    <tr>\n",
       "      <th>2</th>\n",
       "      <td>Othella</td>\n",
       "      <td>0</td>\n",
       "      <td>0</td>\n",
       "      <td>7449</td>\n",
       "      <td>1.9</td>\n",
       "      <td>1</td>\n",
       "      <td>56</td>\n",
       "      <td>0</td>\n",
       "    </tr>\n",
       "    <tr>\n",
       "      <th>3</th>\n",
       "      <td>Sheryl</td>\n",
       "      <td>0</td>\n",
       "      <td>1</td>\n",
       "      <td>23284</td>\n",
       "      <td>3.3</td>\n",
       "      <td>1</td>\n",
       "      <td>25</td>\n",
       "      <td>0</td>\n",
       "    </tr>\n",
       "    <tr>\n",
       "      <th>4</th>\n",
       "      <td>Karim</td>\n",
       "      <td>1</td>\n",
       "      <td>0</td>\n",
       "      <td>212267</td>\n",
       "      <td>8.8</td>\n",
       "      <td>2</td>\n",
       "      <td>24</td>\n",
       "      <td>1</td>\n",
       "    </tr>\n",
       "    <tr>\n",
       "      <th>5</th>\n",
       "      <td>Lanny</td>\n",
       "      <td>0</td>\n",
       "      <td>1</td>\n",
       "      <td>585328</td>\n",
       "      <td>7.1</td>\n",
       "      <td>2</td>\n",
       "      <td>20</td>\n",
       "      <td>0</td>\n",
       "    </tr>\n",
       "    <tr>\n",
       "      <th>...</th>\n",
       "      <td>...</td>\n",
       "      <td>...</td>\n",
       "      <td>...</td>\n",
       "      <td>...</td>\n",
       "      <td>...</td>\n",
       "      <td>...</td>\n",
       "      <td>...</td>\n",
       "      <td>...</td>\n",
       "    </tr>\n",
       "    <tr>\n",
       "      <th>996</th>\n",
       "      <td>Paulie</td>\n",
       "      <td>1</td>\n",
       "      <td>1</td>\n",
       "      <td>921977</td>\n",
       "      <td>8.7</td>\n",
       "      <td>2</td>\n",
       "      <td>16</td>\n",
       "      <td>0</td>\n",
       "    </tr>\n",
       "    <tr>\n",
       "      <th>997</th>\n",
       "      <td>Yancey</td>\n",
       "      <td>1</td>\n",
       "      <td>0</td>\n",
       "      <td>734661</td>\n",
       "      <td>2.5</td>\n",
       "      <td>0</td>\n",
       "      <td>70</td>\n",
       "      <td>0</td>\n",
       "    </tr>\n",
       "    <tr>\n",
       "      <th>998</th>\n",
       "      <td>Marylee</td>\n",
       "      <td>0</td>\n",
       "      <td>0</td>\n",
       "      <td>240330</td>\n",
       "      <td>9.9</td>\n",
       "      <td>0</td>\n",
       "      <td>96</td>\n",
       "      <td>1</td>\n",
       "    </tr>\n",
       "    <tr>\n",
       "      <th>999</th>\n",
       "      <td>Renell</td>\n",
       "      <td>0</td>\n",
       "      <td>0</td>\n",
       "      <td>512529</td>\n",
       "      <td>6.0</td>\n",
       "      <td>1</td>\n",
       "      <td>94</td>\n",
       "      <td>0</td>\n",
       "    </tr>\n",
       "    <tr>\n",
       "      <th>1000</th>\n",
       "      <td>Glenn</td>\n",
       "      <td>1</td>\n",
       "      <td>1</td>\n",
       "      <td>731817</td>\n",
       "      <td>7.3</td>\n",
       "      <td>1</td>\n",
       "      <td>65</td>\n",
       "      <td>1</td>\n",
       "    </tr>\n",
       "  </tbody>\n",
       "</table>\n",
       "<p>1000 rows × 8 columns</p>\n",
       "</div>"
      ],
      "text/plain": [
       "                name  sex  urban/rural  income  GPA  parents qualification  \\\n",
       "Id                                                                           \n",
       "1     Helenelizabeth    0            0  114586  3.8                      0   \n",
       "2            Othella    0            0    7449  1.9                      1   \n",
       "3             Sheryl    0            1   23284  3.3                      1   \n",
       "4              Karim    1            0  212267  8.8                      2   \n",
       "5              Lanny    0            1  585328  7.1                      2   \n",
       "...              ...  ...          ...     ...  ...                    ...   \n",
       "996           Paulie    1            1  921977  8.7                      2   \n",
       "997           Yancey    1            0  734661  2.5                      0   \n",
       "998          Marylee    0            0  240330  9.9                      0   \n",
       "999           Renell    0            0  512529  6.0                      1   \n",
       "1000           Glenn    1            1  731817  7.3                      1   \n",
       "\n",
       "      average attendance  dropout  \n",
       "Id                                 \n",
       "1                     81        1  \n",
       "2                     56        0  \n",
       "3                     25        0  \n",
       "4                     24        1  \n",
       "5                     20        0  \n",
       "...                  ...      ...  \n",
       "996                   16        0  \n",
       "997                   70        0  \n",
       "998                   96        1  \n",
       "999                   94        0  \n",
       "1000                  65        1  \n",
       "\n",
       "[1000 rows x 8 columns]"
      ]
     },
     "execution_count": 47,
     "metadata": {},
     "output_type": "execute_result"
    }
   ],
   "source": [
    "df"
   ]
  },
  {
   "cell_type": "code",
   "execution_count": 48,
   "id": "30839647",
   "metadata": {},
   "outputs": [],
   "source": [
    "one_hot_encoded = pd.get_dummies(df['parents qualification'], prefix='', drop_first=True)\n",
    "\n",
    "df = pd.concat([df, one_hot_encoded], axis=1)\n",
    "df = df.drop('parents qualification', axis=1)"
   ]
  },
  {
   "cell_type": "code",
   "execution_count": 49,
   "id": "71b09efc",
   "metadata": {},
   "outputs": [
    {
     "data": {
      "text/html": [
       "<div>\n",
       "<style scoped>\n",
       "    .dataframe tbody tr th:only-of-type {\n",
       "        vertical-align: middle;\n",
       "    }\n",
       "\n",
       "    .dataframe tbody tr th {\n",
       "        vertical-align: top;\n",
       "    }\n",
       "\n",
       "    .dataframe thead th {\n",
       "        text-align: right;\n",
       "    }\n",
       "</style>\n",
       "<table border=\"1\" class=\"dataframe\">\n",
       "  <thead>\n",
       "    <tr style=\"text-align: right;\">\n",
       "      <th></th>\n",
       "      <th>name</th>\n",
       "      <th>sex</th>\n",
       "      <th>urban/rural</th>\n",
       "      <th>income</th>\n",
       "      <th>GPA</th>\n",
       "      <th>average attendance</th>\n",
       "      <th>dropout</th>\n",
       "      <th>_1</th>\n",
       "      <th>_2</th>\n",
       "    </tr>\n",
       "    <tr>\n",
       "      <th>Id</th>\n",
       "      <th></th>\n",
       "      <th></th>\n",
       "      <th></th>\n",
       "      <th></th>\n",
       "      <th></th>\n",
       "      <th></th>\n",
       "      <th></th>\n",
       "      <th></th>\n",
       "      <th></th>\n",
       "    </tr>\n",
       "  </thead>\n",
       "  <tbody>\n",
       "    <tr>\n",
       "      <th>1</th>\n",
       "      <td>Helenelizabeth</td>\n",
       "      <td>0</td>\n",
       "      <td>0</td>\n",
       "      <td>114586</td>\n",
       "      <td>3.8</td>\n",
       "      <td>81</td>\n",
       "      <td>1</td>\n",
       "      <td>0</td>\n",
       "      <td>0</td>\n",
       "    </tr>\n",
       "    <tr>\n",
       "      <th>2</th>\n",
       "      <td>Othella</td>\n",
       "      <td>0</td>\n",
       "      <td>0</td>\n",
       "      <td>7449</td>\n",
       "      <td>1.9</td>\n",
       "      <td>56</td>\n",
       "      <td>0</td>\n",
       "      <td>1</td>\n",
       "      <td>0</td>\n",
       "    </tr>\n",
       "    <tr>\n",
       "      <th>3</th>\n",
       "      <td>Sheryl</td>\n",
       "      <td>0</td>\n",
       "      <td>1</td>\n",
       "      <td>23284</td>\n",
       "      <td>3.3</td>\n",
       "      <td>25</td>\n",
       "      <td>0</td>\n",
       "      <td>1</td>\n",
       "      <td>0</td>\n",
       "    </tr>\n",
       "    <tr>\n",
       "      <th>4</th>\n",
       "      <td>Karim</td>\n",
       "      <td>1</td>\n",
       "      <td>0</td>\n",
       "      <td>212267</td>\n",
       "      <td>8.8</td>\n",
       "      <td>24</td>\n",
       "      <td>1</td>\n",
       "      <td>0</td>\n",
       "      <td>1</td>\n",
       "    </tr>\n",
       "    <tr>\n",
       "      <th>5</th>\n",
       "      <td>Lanny</td>\n",
       "      <td>0</td>\n",
       "      <td>1</td>\n",
       "      <td>585328</td>\n",
       "      <td>7.1</td>\n",
       "      <td>20</td>\n",
       "      <td>0</td>\n",
       "      <td>0</td>\n",
       "      <td>1</td>\n",
       "    </tr>\n",
       "    <tr>\n",
       "      <th>...</th>\n",
       "      <td>...</td>\n",
       "      <td>...</td>\n",
       "      <td>...</td>\n",
       "      <td>...</td>\n",
       "      <td>...</td>\n",
       "      <td>...</td>\n",
       "      <td>...</td>\n",
       "      <td>...</td>\n",
       "      <td>...</td>\n",
       "    </tr>\n",
       "    <tr>\n",
       "      <th>996</th>\n",
       "      <td>Paulie</td>\n",
       "      <td>1</td>\n",
       "      <td>1</td>\n",
       "      <td>921977</td>\n",
       "      <td>8.7</td>\n",
       "      <td>16</td>\n",
       "      <td>0</td>\n",
       "      <td>0</td>\n",
       "      <td>1</td>\n",
       "    </tr>\n",
       "    <tr>\n",
       "      <th>997</th>\n",
       "      <td>Yancey</td>\n",
       "      <td>1</td>\n",
       "      <td>0</td>\n",
       "      <td>734661</td>\n",
       "      <td>2.5</td>\n",
       "      <td>70</td>\n",
       "      <td>0</td>\n",
       "      <td>0</td>\n",
       "      <td>0</td>\n",
       "    </tr>\n",
       "    <tr>\n",
       "      <th>998</th>\n",
       "      <td>Marylee</td>\n",
       "      <td>0</td>\n",
       "      <td>0</td>\n",
       "      <td>240330</td>\n",
       "      <td>9.9</td>\n",
       "      <td>96</td>\n",
       "      <td>1</td>\n",
       "      <td>0</td>\n",
       "      <td>0</td>\n",
       "    </tr>\n",
       "    <tr>\n",
       "      <th>999</th>\n",
       "      <td>Renell</td>\n",
       "      <td>0</td>\n",
       "      <td>0</td>\n",
       "      <td>512529</td>\n",
       "      <td>6.0</td>\n",
       "      <td>94</td>\n",
       "      <td>0</td>\n",
       "      <td>1</td>\n",
       "      <td>0</td>\n",
       "    </tr>\n",
       "    <tr>\n",
       "      <th>1000</th>\n",
       "      <td>Glenn</td>\n",
       "      <td>1</td>\n",
       "      <td>1</td>\n",
       "      <td>731817</td>\n",
       "      <td>7.3</td>\n",
       "      <td>65</td>\n",
       "      <td>1</td>\n",
       "      <td>1</td>\n",
       "      <td>0</td>\n",
       "    </tr>\n",
       "  </tbody>\n",
       "</table>\n",
       "<p>1000 rows × 9 columns</p>\n",
       "</div>"
      ],
      "text/plain": [
       "                name  sex  urban/rural  income  GPA  average attendance  \\\n",
       "Id                                                                        \n",
       "1     Helenelizabeth    0            0  114586  3.8                  81   \n",
       "2            Othella    0            0    7449  1.9                  56   \n",
       "3             Sheryl    0            1   23284  3.3                  25   \n",
       "4              Karim    1            0  212267  8.8                  24   \n",
       "5              Lanny    0            1  585328  7.1                  20   \n",
       "...              ...  ...          ...     ...  ...                 ...   \n",
       "996           Paulie    1            1  921977  8.7                  16   \n",
       "997           Yancey    1            0  734661  2.5                  70   \n",
       "998          Marylee    0            0  240330  9.9                  96   \n",
       "999           Renell    0            0  512529  6.0                  94   \n",
       "1000           Glenn    1            1  731817  7.3                  65   \n",
       "\n",
       "      dropout  _1  _2  \n",
       "Id                     \n",
       "1           1   0   0  \n",
       "2           0   1   0  \n",
       "3           0   1   0  \n",
       "4           1   0   1  \n",
       "5           0   0   1  \n",
       "...       ...  ..  ..  \n",
       "996         0   0   1  \n",
       "997         0   0   0  \n",
       "998         1   0   0  \n",
       "999         0   1   0  \n",
       "1000        1   1   0  \n",
       "\n",
       "[1000 rows x 9 columns]"
      ]
     },
     "execution_count": 49,
     "metadata": {},
     "output_type": "execute_result"
    }
   ],
   "source": [
    "df"
   ]
  },
  {
   "cell_type": "code",
   "execution_count": 56,
   "id": "43895dbc",
   "metadata": {},
   "outputs": [
    {
     "name": "stdout",
     "output_type": "stream",
     "text": [
      "Logistic Regression Accuracy: 0.45\n"
     ]
    }
   ],
   "source": [
    "import pandas as pd\n",
    "from sklearn.model_selection import train_test_split\n",
    "from sklearn.linear_model import LogisticRegression\n",
    "from sklearn.metrics import accuracy_score\n",
    "\n",
    "X = df[['sex', 'urban/rural', 'income', 'GPA', 'average attendance', '_1', '_2']]\n",
    "y = df['dropout']\n",
    "\n",
    "X_train, X_test, y_train, y_test = train_test_split(X, y, test_size=0.2)\n",
    "\n",
    "model = LogisticRegression()\n",
    "model.fit(X_train, y_train)\n",
    "\n",
    "predictions = model.predict(X_test)\n",
    "\n",
    "accuracy = accuracy_score(y_test, predictions)\n",
    "print(\"Logistic Regression Accuracy:\", accuracy)\n"
   ]
  },
  {
   "cell_type": "code",
   "execution_count": 57,
   "id": "c20bf4b2",
   "metadata": {},
   "outputs": [
    {
     "name": "stdout",
     "output_type": "stream",
     "text": [
      "Decision Tree Accuracy: 0.46\n"
     ]
    }
   ],
   "source": [
    "from sklearn.tree import DecisionTreeClassifier\n",
    "\n",
    "tree_model = DecisionTreeClassifier(max_depth=3)  # You may adjust max_depth\n",
    "tree_model.fit(X_train, y_train)\n",
    "\n",
    "\n",
    "tree_predictions = tree_model.predict(X_test)\n",
    "\n",
    "\n",
    "tree_accuracy = accuracy_score(y_test, tree_predictions)\n",
    "print(\"Decision Tree Accuracy:\", tree_accuracy)\n"
   ]
  },
  {
   "cell_type": "code",
   "execution_count": 58,
   "id": "c8ff126d",
   "metadata": {},
   "outputs": [
    {
     "name": "stdout",
     "output_type": "stream",
     "text": [
      "Random Forest Accuracy: 0.43\n"
     ]
    }
   ],
   "source": [
    "from sklearn.ensemble import RandomForestClassifier\n",
    "\n",
    "forest_model = RandomForestClassifier(n_estimators=100)\n",
    "forest_model.fit(X_train, y_train)\n",
    "\n",
    "forest_predictions = forest_model.predict(X_test)\n",
    "\n",
    "forest_accuracy = accuracy_score(y_test, forest_predictions)\n",
    "print(\"Random Forest Accuracy:\", forest_accuracy)"
   ]
  },
  {
   "cell_type": "code",
   "execution_count": 60,
   "id": "dc715de8",
   "metadata": {},
   "outputs": [
    {
     "name": "stdout",
     "output_type": "stream",
     "text": [
      "SVM Accuracy: 0.46\n"
     ]
    }
   ],
   "source": [
    "from sklearn.svm import SVC\n",
    "from sklearn.preprocessing import StandardScaler\n",
    "from sklearn.pipeline import make_pipeline\n",
    "\n",
    "# ... (same data preparation steps as above)\n",
    "\n",
    "# SVM requires feature scaling\n",
    "svm_model = make_pipeline(StandardScaler(), SVC())\n",
    "svm_model.fit(X_train, y_train)\n",
    "\n",
    "# Make predictions\n",
    "svm_predictions = svm_model.predict(X_test)\n",
    "\n",
    "# Evaluate the model\n",
    "svm_accuracy = accuracy_score(y_test, svm_predictions)\n",
    "print(\"SVM Accuracy:\", svm_accuracy)\n"
   ]
  },
  {
   "cell_type": "code",
   "execution_count": 61,
   "id": "eebc36e9",
   "metadata": {},
   "outputs": [
    {
     "name": "stdout",
     "output_type": "stream",
     "text": [
      "Neural Network Accuracy: 0.435\n"
     ]
    },
    {
     "name": "stderr",
     "output_type": "stream",
     "text": [
      "C:\\Users\\DELL\\anaconda3\\Lib\\site-packages\\sklearn\\neural_network\\_multilayer_perceptron.py:686: ConvergenceWarning: Stochastic Optimizer: Maximum iterations (200) reached and the optimization hasn't converged yet.\n",
      "  warnings.warn(\n"
     ]
    }
   ],
   "source": [
    "from sklearn.neural_network import MLPClassifier\n",
    "from sklearn.preprocessing import StandardScaler\n",
    "from sklearn.pipeline import make_pipeline\n",
    "\n",
    "# ... (same data preparation steps as above)\n",
    "\n",
    "# Neural Networks also benefit from feature scaling\n",
    "nn_model = make_pipeline(StandardScaler(), MLPClassifier(hidden_layer_sizes=(100,)))\n",
    "nn_model.fit(X_train, y_train)\n",
    "\n",
    "# Make predictions\n",
    "nn_predictions = nn_model.predict(X_test)\n",
    "\n",
    "# Evaluate the model\n",
    "nn_accuracy = accuracy_score(y_test, nn_predictions)\n",
    "print(\"Neural Network Accuracy:\", nn_accuracy)\n"
   ]
  },
  {
   "cell_type": "code",
   "execution_count": 62,
   "id": "35b067b0",
   "metadata": {},
   "outputs": [
    {
     "data": {
      "text/plain": [
       "Index(['name', 'sex', 'urban/rural', 'income', 'GPA', 'average attendance',\n",
       "       'dropout', '_1', '_2'],\n",
       "      dtype='object')"
      ]
     },
     "execution_count": 62,
     "metadata": {},
     "output_type": "execute_result"
    }
   ],
   "source": [
    "df.columns"
   ]
  },
  {
   "cell_type": "code",
   "execution_count": 74,
   "id": "11b206e4",
   "metadata": {},
   "outputs": [
    {
     "data": {
      "text/html": [
       "<div>\n",
       "<style scoped>\n",
       "    .dataframe tbody tr th:only-of-type {\n",
       "        vertical-align: middle;\n",
       "    }\n",
       "\n",
       "    .dataframe tbody tr th {\n",
       "        vertical-align: top;\n",
       "    }\n",
       "\n",
       "    .dataframe thead th {\n",
       "        text-align: right;\n",
       "    }\n",
       "</style>\n",
       "<table border=\"1\" class=\"dataframe\">\n",
       "  <thead>\n",
       "    <tr style=\"text-align: right;\">\n",
       "      <th></th>\n",
       "      <th>name</th>\n",
       "      <th>sex</th>\n",
       "      <th>urban/rural</th>\n",
       "      <th>income</th>\n",
       "      <th>GPA</th>\n",
       "      <th>average attendance</th>\n",
       "      <th>Parents Qualification</th>\n",
       "      <th>is dropout?</th>\n",
       "    </tr>\n",
       "    <tr>\n",
       "      <th>id</th>\n",
       "      <th></th>\n",
       "      <th></th>\n",
       "      <th></th>\n",
       "      <th></th>\n",
       "      <th></th>\n",
       "      <th></th>\n",
       "      <th></th>\n",
       "      <th></th>\n",
       "    </tr>\n",
       "  </thead>\n",
       "  <tbody>\n",
       "    <tr>\n",
       "      <th>1</th>\n",
       "      <td>Student_1</td>\n",
       "      <td>Male</td>\n",
       "      <td>Rural</td>\n",
       "      <td>High</td>\n",
       "      <td>3.984316</td>\n",
       "      <td>80.387606</td>\n",
       "      <td>Low</td>\n",
       "      <td>Yes</td>\n",
       "    </tr>\n",
       "    <tr>\n",
       "      <th>2</th>\n",
       "      <td>Student_2</td>\n",
       "      <td>Female</td>\n",
       "      <td>Urban</td>\n",
       "      <td>Medium</td>\n",
       "      <td>3.702850</td>\n",
       "      <td>64.765074</td>\n",
       "      <td>Low</td>\n",
       "      <td>Yes</td>\n",
       "    </tr>\n",
       "    <tr>\n",
       "      <th>3</th>\n",
       "      <td>Student_3</td>\n",
       "      <td>Male</td>\n",
       "      <td>Urban</td>\n",
       "      <td>High</td>\n",
       "      <td>2.417021</td>\n",
       "      <td>56.830045</td>\n",
       "      <td>Low</td>\n",
       "      <td>Yes</td>\n",
       "    </tr>\n",
       "    <tr>\n",
       "      <th>4</th>\n",
       "      <td>Student_4</td>\n",
       "      <td>Male</td>\n",
       "      <td>Urban</td>\n",
       "      <td>Low</td>\n",
       "      <td>3.861190</td>\n",
       "      <td>82.581988</td>\n",
       "      <td>Low</td>\n",
       "      <td>Yes</td>\n",
       "    </tr>\n",
       "    <tr>\n",
       "      <th>5</th>\n",
       "      <td>Student_5</td>\n",
       "      <td>Male</td>\n",
       "      <td>Urban</td>\n",
       "      <td>Low</td>\n",
       "      <td>2.232733</td>\n",
       "      <td>86.929873</td>\n",
       "      <td>Low</td>\n",
       "      <td>Yes</td>\n",
       "    </tr>\n",
       "    <tr>\n",
       "      <th>...</th>\n",
       "      <td>...</td>\n",
       "      <td>...</td>\n",
       "      <td>...</td>\n",
       "      <td>...</td>\n",
       "      <td>...</td>\n",
       "      <td>...</td>\n",
       "      <td>...</td>\n",
       "      <td>...</td>\n",
       "    </tr>\n",
       "    <tr>\n",
       "      <th>996</th>\n",
       "      <td>Student_996</td>\n",
       "      <td>Male</td>\n",
       "      <td>Urban</td>\n",
       "      <td>Medium</td>\n",
       "      <td>3.314707</td>\n",
       "      <td>95.530286</td>\n",
       "      <td>Medium</td>\n",
       "      <td>Yes</td>\n",
       "    </tr>\n",
       "    <tr>\n",
       "      <th>997</th>\n",
       "      <td>Student_997</td>\n",
       "      <td>Male</td>\n",
       "      <td>Rural</td>\n",
       "      <td>High</td>\n",
       "      <td>2.944564</td>\n",
       "      <td>75.492700</td>\n",
       "      <td>High</td>\n",
       "      <td>Yes</td>\n",
       "    </tr>\n",
       "    <tr>\n",
       "      <th>998</th>\n",
       "      <td>Student_998</td>\n",
       "      <td>Female</td>\n",
       "      <td>Urban</td>\n",
       "      <td>Medium</td>\n",
       "      <td>3.760313</td>\n",
       "      <td>75.063782</td>\n",
       "      <td>High</td>\n",
       "      <td>No</td>\n",
       "    </tr>\n",
       "    <tr>\n",
       "      <th>999</th>\n",
       "      <td>Student_999</td>\n",
       "      <td>Female</td>\n",
       "      <td>Urban</td>\n",
       "      <td>High</td>\n",
       "      <td>2.431481</td>\n",
       "      <td>52.512150</td>\n",
       "      <td>High</td>\n",
       "      <td>Yes</td>\n",
       "    </tr>\n",
       "    <tr>\n",
       "      <th>1000</th>\n",
       "      <td>Student_1000</td>\n",
       "      <td>Male</td>\n",
       "      <td>Urban</td>\n",
       "      <td>High</td>\n",
       "      <td>3.355626</td>\n",
       "      <td>51.745578</td>\n",
       "      <td>Medium</td>\n",
       "      <td>Yes</td>\n",
       "    </tr>\n",
       "  </tbody>\n",
       "</table>\n",
       "<p>1000 rows × 8 columns</p>\n",
       "</div>"
      ],
      "text/plain": [
       "              name     sex urban/rural  income       GPA  average attendance  \\\n",
       "id                                                                             \n",
       "1        Student_1    Male       Rural    High  3.984316           80.387606   \n",
       "2        Student_2  Female       Urban  Medium  3.702850           64.765074   \n",
       "3        Student_3    Male       Urban    High  2.417021           56.830045   \n",
       "4        Student_4    Male       Urban     Low  3.861190           82.581988   \n",
       "5        Student_5    Male       Urban     Low  2.232733           86.929873   \n",
       "...            ...     ...         ...     ...       ...                 ...   \n",
       "996    Student_996    Male       Urban  Medium  3.314707           95.530286   \n",
       "997    Student_997    Male       Rural    High  2.944564           75.492700   \n",
       "998    Student_998  Female       Urban  Medium  3.760313           75.063782   \n",
       "999    Student_999  Female       Urban    High  2.431481           52.512150   \n",
       "1000  Student_1000    Male       Urban    High  3.355626           51.745578   \n",
       "\n",
       "     Parents Qualification is dropout?  \n",
       "id                                      \n",
       "1                      Low         Yes  \n",
       "2                      Low         Yes  \n",
       "3                      Low         Yes  \n",
       "4                      Low         Yes  \n",
       "5                      Low         Yes  \n",
       "...                    ...         ...  \n",
       "996                 Medium         Yes  \n",
       "997                   High         Yes  \n",
       "998                   High          No  \n",
       "999                   High         Yes  \n",
       "1000                Medium         Yes  \n",
       "\n",
       "[1000 rows x 8 columns]"
      ]
     },
     "execution_count": 74,
     "metadata": {},
     "output_type": "execute_result"
    }
   ],
   "source": [
    "generated_data = pd.read_csv(\"student_dropout_data.csv\", index_col='id')\n",
    "generated_data"
   ]
  },
  {
   "cell_type": "code",
   "execution_count": 84,
   "id": "bfa09f8a",
   "metadata": {},
   "outputs": [],
   "source": [
    "cols_to_encode = [\"sex\", \"urban/rural\", \"income\", \"Parents Qualification\", \"is dropout?\"]"
   ]
  },
  {
   "cell_type": "code",
   "execution_count": 88,
   "id": "9ecba6f5",
   "metadata": {},
   "outputs": [],
   "source": [
    "df_encoded = pd.get_dummies(generated_data, columns=cols_to_encode, drop_first=True)"
   ]
  },
  {
   "cell_type": "code",
   "execution_count": 89,
   "id": "f34d8da3",
   "metadata": {},
   "outputs": [
    {
     "data": {
      "text/html": [
       "<div>\n",
       "<style scoped>\n",
       "    .dataframe tbody tr th:only-of-type {\n",
       "        vertical-align: middle;\n",
       "    }\n",
       "\n",
       "    .dataframe tbody tr th {\n",
       "        vertical-align: top;\n",
       "    }\n",
       "\n",
       "    .dataframe thead th {\n",
       "        text-align: right;\n",
       "    }\n",
       "</style>\n",
       "<table border=\"1\" class=\"dataframe\">\n",
       "  <thead>\n",
       "    <tr style=\"text-align: right;\">\n",
       "      <th></th>\n",
       "      <th>name</th>\n",
       "      <th>GPA</th>\n",
       "      <th>average attendance</th>\n",
       "      <th>sex_Male</th>\n",
       "      <th>urban/rural_Urban</th>\n",
       "      <th>income_Low</th>\n",
       "      <th>income_Medium</th>\n",
       "      <th>Parents Qualification_Low</th>\n",
       "      <th>Parents Qualification_Medium</th>\n",
       "      <th>is dropout?_Yes</th>\n",
       "    </tr>\n",
       "    <tr>\n",
       "      <th>id</th>\n",
       "      <th></th>\n",
       "      <th></th>\n",
       "      <th></th>\n",
       "      <th></th>\n",
       "      <th></th>\n",
       "      <th></th>\n",
       "      <th></th>\n",
       "      <th></th>\n",
       "      <th></th>\n",
       "      <th></th>\n",
       "    </tr>\n",
       "  </thead>\n",
       "  <tbody>\n",
       "    <tr>\n",
       "      <th>1</th>\n",
       "      <td>Student_1</td>\n",
       "      <td>3.984316</td>\n",
       "      <td>80.387606</td>\n",
       "      <td>1</td>\n",
       "      <td>0</td>\n",
       "      <td>0</td>\n",
       "      <td>0</td>\n",
       "      <td>1</td>\n",
       "      <td>0</td>\n",
       "      <td>1</td>\n",
       "    </tr>\n",
       "    <tr>\n",
       "      <th>2</th>\n",
       "      <td>Student_2</td>\n",
       "      <td>3.702850</td>\n",
       "      <td>64.765074</td>\n",
       "      <td>0</td>\n",
       "      <td>1</td>\n",
       "      <td>0</td>\n",
       "      <td>1</td>\n",
       "      <td>1</td>\n",
       "      <td>0</td>\n",
       "      <td>1</td>\n",
       "    </tr>\n",
       "    <tr>\n",
       "      <th>3</th>\n",
       "      <td>Student_3</td>\n",
       "      <td>2.417021</td>\n",
       "      <td>56.830045</td>\n",
       "      <td>1</td>\n",
       "      <td>1</td>\n",
       "      <td>0</td>\n",
       "      <td>0</td>\n",
       "      <td>1</td>\n",
       "      <td>0</td>\n",
       "      <td>1</td>\n",
       "    </tr>\n",
       "    <tr>\n",
       "      <th>4</th>\n",
       "      <td>Student_4</td>\n",
       "      <td>3.861190</td>\n",
       "      <td>82.581988</td>\n",
       "      <td>1</td>\n",
       "      <td>1</td>\n",
       "      <td>1</td>\n",
       "      <td>0</td>\n",
       "      <td>1</td>\n",
       "      <td>0</td>\n",
       "      <td>1</td>\n",
       "    </tr>\n",
       "    <tr>\n",
       "      <th>5</th>\n",
       "      <td>Student_5</td>\n",
       "      <td>2.232733</td>\n",
       "      <td>86.929873</td>\n",
       "      <td>1</td>\n",
       "      <td>1</td>\n",
       "      <td>1</td>\n",
       "      <td>0</td>\n",
       "      <td>1</td>\n",
       "      <td>0</td>\n",
       "      <td>1</td>\n",
       "    </tr>\n",
       "    <tr>\n",
       "      <th>...</th>\n",
       "      <td>...</td>\n",
       "      <td>...</td>\n",
       "      <td>...</td>\n",
       "      <td>...</td>\n",
       "      <td>...</td>\n",
       "      <td>...</td>\n",
       "      <td>...</td>\n",
       "      <td>...</td>\n",
       "      <td>...</td>\n",
       "      <td>...</td>\n",
       "    </tr>\n",
       "    <tr>\n",
       "      <th>996</th>\n",
       "      <td>Student_996</td>\n",
       "      <td>3.314707</td>\n",
       "      <td>95.530286</td>\n",
       "      <td>1</td>\n",
       "      <td>1</td>\n",
       "      <td>0</td>\n",
       "      <td>1</td>\n",
       "      <td>0</td>\n",
       "      <td>1</td>\n",
       "      <td>1</td>\n",
       "    </tr>\n",
       "    <tr>\n",
       "      <th>997</th>\n",
       "      <td>Student_997</td>\n",
       "      <td>2.944564</td>\n",
       "      <td>75.492700</td>\n",
       "      <td>1</td>\n",
       "      <td>0</td>\n",
       "      <td>0</td>\n",
       "      <td>0</td>\n",
       "      <td>0</td>\n",
       "      <td>0</td>\n",
       "      <td>1</td>\n",
       "    </tr>\n",
       "    <tr>\n",
       "      <th>998</th>\n",
       "      <td>Student_998</td>\n",
       "      <td>3.760313</td>\n",
       "      <td>75.063782</td>\n",
       "      <td>0</td>\n",
       "      <td>1</td>\n",
       "      <td>0</td>\n",
       "      <td>1</td>\n",
       "      <td>0</td>\n",
       "      <td>0</td>\n",
       "      <td>0</td>\n",
       "    </tr>\n",
       "    <tr>\n",
       "      <th>999</th>\n",
       "      <td>Student_999</td>\n",
       "      <td>2.431481</td>\n",
       "      <td>52.512150</td>\n",
       "      <td>0</td>\n",
       "      <td>1</td>\n",
       "      <td>0</td>\n",
       "      <td>0</td>\n",
       "      <td>0</td>\n",
       "      <td>0</td>\n",
       "      <td>1</td>\n",
       "    </tr>\n",
       "    <tr>\n",
       "      <th>1000</th>\n",
       "      <td>Student_1000</td>\n",
       "      <td>3.355626</td>\n",
       "      <td>51.745578</td>\n",
       "      <td>1</td>\n",
       "      <td>1</td>\n",
       "      <td>0</td>\n",
       "      <td>0</td>\n",
       "      <td>0</td>\n",
       "      <td>1</td>\n",
       "      <td>1</td>\n",
       "    </tr>\n",
       "  </tbody>\n",
       "</table>\n",
       "<p>1000 rows × 10 columns</p>\n",
       "</div>"
      ],
      "text/plain": [
       "              name       GPA  average attendance  sex_Male  urban/rural_Urban  \\\n",
       "id                                                                              \n",
       "1        Student_1  3.984316           80.387606         1                  0   \n",
       "2        Student_2  3.702850           64.765074         0                  1   \n",
       "3        Student_3  2.417021           56.830045         1                  1   \n",
       "4        Student_4  3.861190           82.581988         1                  1   \n",
       "5        Student_5  2.232733           86.929873         1                  1   \n",
       "...            ...       ...                 ...       ...                ...   \n",
       "996    Student_996  3.314707           95.530286         1                  1   \n",
       "997    Student_997  2.944564           75.492700         1                  0   \n",
       "998    Student_998  3.760313           75.063782         0                  1   \n",
       "999    Student_999  2.431481           52.512150         0                  1   \n",
       "1000  Student_1000  3.355626           51.745578         1                  1   \n",
       "\n",
       "      income_Low  income_Medium  Parents Qualification_Low  \\\n",
       "id                                                           \n",
       "1              0              0                          1   \n",
       "2              0              1                          1   \n",
       "3              0              0                          1   \n",
       "4              1              0                          1   \n",
       "5              1              0                          1   \n",
       "...          ...            ...                        ...   \n",
       "996            0              1                          0   \n",
       "997            0              0                          0   \n",
       "998            0              1                          0   \n",
       "999            0              0                          0   \n",
       "1000           0              0                          0   \n",
       "\n",
       "      Parents Qualification_Medium  is dropout?_Yes  \n",
       "id                                                   \n",
       "1                                0                1  \n",
       "2                                0                1  \n",
       "3                                0                1  \n",
       "4                                0                1  \n",
       "5                                0                1  \n",
       "...                            ...              ...  \n",
       "996                              1                1  \n",
       "997                              0                1  \n",
       "998                              0                0  \n",
       "999                              0                1  \n",
       "1000                             1                1  \n",
       "\n",
       "[1000 rows x 10 columns]"
      ]
     },
     "execution_count": 89,
     "metadata": {},
     "output_type": "execute_result"
    }
   ],
   "source": [
    "df_encoded"
   ]
  },
  {
   "cell_type": "code",
   "execution_count": 100,
   "id": "58075684",
   "metadata": {},
   "outputs": [],
   "source": [
    "from sklearn.preprocessing import MinMaxScaler\n",
    "scaler = MinMaxScaler()\n",
    "\n",
    "df_encoded[[\"GPA\", \"average attendance\"]]= scaler.fit_transform(df_encoded[[\"GPA\", \"average attendance\"]])"
   ]
  },
  {
   "cell_type": "code",
   "execution_count": 104,
   "id": "f55e334c",
   "metadata": {},
   "outputs": [
    {
     "name": "stdout",
     "output_type": "stream",
     "text": [
      "Logistic Regression Accuracy: 0.955\n"
     ]
    }
   ],
   "source": [
    "import pandas as pd\n",
    "from sklearn.model_selection import train_test_split\n",
    "from sklearn.linear_model import LogisticRegression\n",
    "from sklearn.metrics import accuracy_score\n",
    "\n",
    "X = df_encoded.drop(columns=[\"name\", \"is dropout?_Yes\"])\n",
    "y = df_encoded['is dropout?_Yes']\n",
    "\n",
    "X_train, X_test, y_train, y_test = train_test_split(X, y, test_size=0.2, stratify=y)\n",
    "\n",
    "model = LogisticRegression()\n",
    "model.fit(X_train, y_train)\n",
    "\n",
    "predictions = model.predict(X_test)\n",
    "\n",
    "accuracy = accuracy_score(y_test, predictions)\n",
    "print(\"Logistic Regression Accuracy:\", accuracy)"
   ]
  },
  {
   "cell_type": "code",
   "execution_count": 107,
   "id": "ba7fc946",
   "metadata": {},
   "outputs": [
    {
     "data": {
      "text/plain": [
       "array([[  1,   9],\n",
       "       [  0, 190]], dtype=int64)"
      ]
     },
     "execution_count": 107,
     "metadata": {},
     "output_type": "execute_result"
    }
   ],
   "source": [
    "from sklearn.metrics import confusion_matrix, accuracy_score, precision_score, recall_score, f1_score, classification_report\n",
    "\n",
    "cm = confusion_matrix(y_test, predictions)\n",
    "cm"
   ]
  },
  {
   "cell_type": "code",
   "execution_count": 106,
   "id": "9f9ae77b",
   "metadata": {},
   "outputs": [
    {
     "data": {
      "image/png": "[encoded data removed]",
      "text/plain": [
       "<Figure size 800x600 with 1 Axes>"
      ]
     },
     "metadata": {},
     "output_type": "display_data"
    }
   ],
   "source": [
    "import seaborn as sns\n",
    "plt.figure(figsize=(8, 6))\n",
    "sns.heatmap(cm, annot=True, fmt='d', cmap='Blues', cbar=False,\n",
    "            xticklabels=['Predicted 0', 'Predicted 1'],\n",
    "            yticklabels=['Actual 0', 'Actual 1'])\n",
    "plt.title('Confusion Matrix')\n",
    "plt.xlabel('Predicted label')\n",
    "plt.ylabel('True label')\n",
    "plt.show()"
   ]
  },
  {
   "cell_type": "code",
   "execution_count": 109,
   "id": "2c8904ba",
   "metadata": {},
   "outputs": [
    {
     "name": "stdout",
     "output_type": "stream",
     "text": [
      "              precision    recall  f1-score   support\n",
      "\n",
      "           0       1.00      0.10      0.18        10\n",
      "           1       0.95      1.00      0.98       190\n",
      "\n",
      "    accuracy                           0.95       200\n",
      "   macro avg       0.98      0.55      0.58       200\n",
      "weighted avg       0.96      0.95      0.94       200\n",
      "\n"
     ]
    }
   ],
   "source": [
    "print(classification_report(y_test, predictions))"
   ]
  },
  {
   "cell_type": "code",
   "execution_count": 120,
   "id": "6f6fc0ea",
   "metadata": {},
   "outputs": [],
   "source": [
    "from imblearn.over_sampling import SMOTE\n",
    "\n",
    "smote = SMOTE(sampling_strategy='auto', random_state=42)\n",
    "X_resampled, y_resampled = smote.fit_resample(X, y)\n",
    "X_train, X_test, y_train, y_test = train_test_split(X_resampled, y_resampled, test_size=0.2, stratify=y_resampled)\n"
   ]
  },
  {
   "cell_type": "markdown",
   "id": "91d1b172",
   "metadata": {},
   "source": [
    "# Logistic Regression Model"
   ]
  },
  {
   "cell_type": "code",
   "execution_count": 116,
   "id": "1813c4e8",
   "metadata": {},
   "outputs": [
    {
     "name": "stdout",
     "output_type": "stream",
     "text": [
      "Logistic Regression Accuracy: 0.9605263157894737\n"
     ]
    }
   ],
   "source": [
    "\n",
    "model = LogisticRegression()\n",
    "model.fit(X_train, y_train)\n",
    "\n",
    "predictions = model.predict(X_test)\n",
    "\n",
    "accuracy = accuracy_score(y_test, predictions)\n",
    "print(\"Logistic Regression Accuracy:\", accuracy)"
   ]
  },
  {
   "cell_type": "code",
   "execution_count": 117,
   "id": "e89d0181",
   "metadata": {},
   "outputs": [
    {
     "name": "stdout",
     "output_type": "stream",
     "text": [
      "              precision    recall  f1-score   support\n",
      "\n",
      "           0       0.93      1.00      0.96       190\n",
      "           1       1.00      0.92      0.96       190\n",
      "\n",
      "    accuracy                           0.96       380\n",
      "   macro avg       0.96      0.96      0.96       380\n",
      "weighted avg       0.96      0.96      0.96       380\n",
      "\n"
     ]
    }
   ],
   "source": [
    "print(classification_report(y_test, predictions))"
   ]
  },
  {
   "cell_type": "code",
   "execution_count": 119,
   "id": "ab4c918b",
   "metadata": {},
   "outputs": [
    {
     "data": {
      "image/png": "[encoded data removed]",
      "text/plain": [
       "<Figure size 800x600 with 1 Axes>"
      ]
     },
     "metadata": {},
     "output_type": "display_data"
    }
   ],
   "source": [
    "cm = confusion_matrix(y_test, predictions)\n",
    "\n",
    "plt.figure(figsize=(8, 6))\n",
    "sns.heatmap(cm, annot=True, fmt='d', cmap='Blues', cbar=False,\n",
    "            xticklabels=['Predicted 0', 'Predicted 1'],\n",
    "            yticklabels=['Actual 0', 'Actual 1'])\n",
    "plt.title('Confusion Matrix')\n",
    "plt.xlabel('Predicted label')\n",
    "plt.ylabel('True label')\n",
    "plt.show()"
   ]
  },
  {
   "cell_type": "code",
   "execution_count": 122,
   "id": "4f530f05",
   "metadata": {},
   "outputs": [
    {
     "name": "stdout",
     "output_type": "stream",
     "text": [
      "              precision    recall  f1-score   support\n",
      "\n",
      "           0       0.88      1.00      0.94       190\n",
      "           1       1.00      0.87      0.93       190\n",
      "\n",
      "    accuracy                           0.93       380\n",
      "   macro avg       0.94      0.93      0.93       380\n",
      "weighted avg       0.94      0.93      0.93       380\n",
      "\n"
     ]
    }
   ],
   "source": [
    "tree_model = DecisionTreeClassifier(max_depth=3)  # You may adjust max_depth\n",
    "tree_model.fit(X_train, y_train)\n",
    "\n",
    "# Make predictions\n",
    "tree_predictions = tree_model.predict(X_test)\n",
    "\n",
    "print(classification_report(y_test, tree_predictions))"
   ]
  },
  {
   "cell_type": "code",
   "execution_count": 123,
   "id": "b041928a",
   "metadata": {},
   "outputs": [
    {
     "name": "stdout",
     "output_type": "stream",
     "text": [
      "              precision    recall  f1-score   support\n",
      "\n",
      "           0       1.00      1.00      1.00       190\n",
      "           1       1.00      1.00      1.00       190\n",
      "\n",
      "    accuracy                           1.00       380\n",
      "   macro avg       1.00      1.00      1.00       380\n",
      "weighted avg       1.00      1.00      1.00       380\n",
      "\n"
     ]
    }
   ],
   "source": [
    "forest_model = RandomForestClassifier(n_estimators=100)  # You may adjust n_estimators\n",
    "forest_model.fit(X_train, y_train)\n",
    "\n",
    "# Make predictions\n",
    "forest_predictions = forest_model.predict(X_test)\n",
    "\n",
    "\n",
    "print(classification_report(y_test, forest_predictions))"
   ]
  },
  {
   "cell_type": "code",
   "execution_count": 132,
   "id": "8d840763",
   "metadata": {},
   "outputs": [
    {
     "name": "stderr",
     "output_type": "stream",
     "text": [
      "C:\\Users\\DELL\\anaconda3\\Lib\\site-packages\\sklearn\\base.py:439: UserWarning: X does not have valid feature names, but RandomForestClassifier was fitted with feature names\n",
      "  warnings.warn(\n"
     ]
    },
    {
     "data": {
      "text/plain": [
       "array([[0.02, 0.98]])"
      ]
     },
     "execution_count": 132,
     "metadata": {},
     "output_type": "execute_result"
    }
   ],
   "source": [
    "forest_model.predict_proba([[1, 1, 1, 0, 1, 0, 1, 0]])"
   ]
  },
  {
   "cell_type": "code",
   "execution_count": 133,
   "id": "c56bb1b6",
   "metadata": {},
   "outputs": [
    {
     "data": {
      "text/plain": [
       "array([0.27670597, 0.3001351 , 0.01200874, 0.04143274, 0.02619494,\n",
       "       0.02255938, 0.17539662, 0.14556651])"
      ]
     },
     "execution_count": 133,
     "metadata": {},
     "output_type": "execute_result"
    }
   ],
   "source": [
    "forest_model.feature_importances_"
   ]
  },
  {
   "cell_type": "code",
   "execution_count": 150,
   "id": "3b1327c4",
   "metadata": {},
   "outputs": [
    {
     "name": "stderr",
     "output_type": "stream",
     "text": [
      "C:\\Users\\DELL\\anaconda3\\Lib\\site-packages\\sklearn\\base.py:439: UserWarning: X does not have valid feature names, but RandomForestClassifier was fitted with feature names\n",
      "  warnings.warn(\n"
     ]
    },
    {
     "data": {
      "text/plain": [
       "array([[0., 1.]])"
      ]
     },
     "execution_count": 150,
     "metadata": {},
     "output_type": "execute_result"
    }
   ],
   "source": [
    "forest_model.predict_proba([X_test.iloc[2]])"
   ]
  },
  {
   "cell_type": "code",
   "execution_count": 141,
   "id": "6e658dc2",
   "metadata": {},
   "outputs": [
    {
     "data": {
      "text/html": [
       "<div>\n",
       "<style scoped>\n",
       "    .dataframe tbody tr th:only-of-type {\n",
       "        vertical-align: middle;\n",
       "    }\n",
       "\n",
       "    .dataframe tbody tr th {\n",
       "        vertical-align: top;\n",
       "    }\n",
       "\n",
       "    .dataframe thead th {\n",
       "        text-align: right;\n",
       "    }\n",
       "</style>\n",
       "<table border=\"1\" class=\"dataframe\">\n",
       "  <thead>\n",
       "    <tr style=\"text-align: right;\">\n",
       "      <th></th>\n",
       "      <th>GPA</th>\n",
       "      <th>average attendance</th>\n",
       "      <th>sex_Male</th>\n",
       "      <th>urban/rural_Urban</th>\n",
       "      <th>income_Low</th>\n",
       "      <th>income_Medium</th>\n",
       "      <th>Parents Qualification_Low</th>\n",
       "      <th>Parents Qualification_Medium</th>\n",
       "      <th>is dropout?_Yes</th>\n",
       "    </tr>\n",
       "  </thead>\n",
       "  <tbody>\n",
       "    <tr>\n",
       "      <th>1725</th>\n",
       "      <td>0.609073</td>\n",
       "      <td>0.885395</td>\n",
       "      <td>0</td>\n",
       "      <td>1</td>\n",
       "      <td>0</td>\n",
       "      <td>0</td>\n",
       "      <td>0</td>\n",
       "      <td>0</td>\n",
       "      <td>0</td>\n",
       "    </tr>\n",
       "    <tr>\n",
       "      <th>419</th>\n",
       "      <td>0.910713</td>\n",
       "      <td>0.587841</td>\n",
       "      <td>0</td>\n",
       "      <td>1</td>\n",
       "      <td>0</td>\n",
       "      <td>1</td>\n",
       "      <td>0</td>\n",
       "      <td>1</td>\n",
       "      <td>1</td>\n",
       "    </tr>\n",
       "    <tr>\n",
       "      <th>720</th>\n",
       "      <td>0.319303</td>\n",
       "      <td>0.033680</td>\n",
       "      <td>0</td>\n",
       "      <td>0</td>\n",
       "      <td>0</td>\n",
       "      <td>1</td>\n",
       "      <td>0</td>\n",
       "      <td>1</td>\n",
       "      <td>1</td>\n",
       "    </tr>\n",
       "    <tr>\n",
       "      <th>1041</th>\n",
       "      <td>0.956172</td>\n",
       "      <td>0.599199</td>\n",
       "      <td>0</td>\n",
       "      <td>1</td>\n",
       "      <td>0</td>\n",
       "      <td>1</td>\n",
       "      <td>0</td>\n",
       "      <td>0</td>\n",
       "      <td>0</td>\n",
       "    </tr>\n",
       "    <tr>\n",
       "      <th>249</th>\n",
       "      <td>0.368834</td>\n",
       "      <td>0.967273</td>\n",
       "      <td>1</td>\n",
       "      <td>0</td>\n",
       "      <td>0</td>\n",
       "      <td>0</td>\n",
       "      <td>1</td>\n",
       "      <td>0</td>\n",
       "      <td>1</td>\n",
       "    </tr>\n",
       "    <tr>\n",
       "      <th>...</th>\n",
       "      <td>...</td>\n",
       "      <td>...</td>\n",
       "      <td>...</td>\n",
       "      <td>...</td>\n",
       "      <td>...</td>\n",
       "      <td>...</td>\n",
       "      <td>...</td>\n",
       "      <td>...</td>\n",
       "      <td>...</td>\n",
       "    </tr>\n",
       "    <tr>\n",
       "      <th>1302</th>\n",
       "      <td>0.737796</td>\n",
       "      <td>0.804763</td>\n",
       "      <td>1</td>\n",
       "      <td>0</td>\n",
       "      <td>0</td>\n",
       "      <td>0</td>\n",
       "      <td>0</td>\n",
       "      <td>0</td>\n",
       "      <td>0</td>\n",
       "    </tr>\n",
       "    <tr>\n",
       "      <th>1572</th>\n",
       "      <td>0.685676</td>\n",
       "      <td>0.825482</td>\n",
       "      <td>0</td>\n",
       "      <td>1</td>\n",
       "      <td>0</td>\n",
       "      <td>1</td>\n",
       "      <td>0</td>\n",
       "      <td>0</td>\n",
       "      <td>0</td>\n",
       "    </tr>\n",
       "    <tr>\n",
       "      <th>439</th>\n",
       "      <td>0.697010</td>\n",
       "      <td>0.434206</td>\n",
       "      <td>1</td>\n",
       "      <td>1</td>\n",
       "      <td>0</td>\n",
       "      <td>1</td>\n",
       "      <td>0</td>\n",
       "      <td>0</td>\n",
       "      <td>1</td>\n",
       "    </tr>\n",
       "    <tr>\n",
       "      <th>1014</th>\n",
       "      <td>0.771308</td>\n",
       "      <td>0.922935</td>\n",
       "      <td>1</td>\n",
       "      <td>0</td>\n",
       "      <td>0</td>\n",
       "      <td>0</td>\n",
       "      <td>0</td>\n",
       "      <td>0</td>\n",
       "      <td>0</td>\n",
       "    </tr>\n",
       "    <tr>\n",
       "      <th>124</th>\n",
       "      <td>0.066636</td>\n",
       "      <td>0.951850</td>\n",
       "      <td>1</td>\n",
       "      <td>0</td>\n",
       "      <td>1</td>\n",
       "      <td>0</td>\n",
       "      <td>0</td>\n",
       "      <td>0</td>\n",
       "      <td>1</td>\n",
       "    </tr>\n",
       "  </tbody>\n",
       "</table>\n",
       "<p>380 rows × 9 columns</p>\n",
       "</div>"
      ],
      "text/plain": [
       "           GPA  average attendance  sex_Male  urban/rural_Urban  income_Low  \\\n",
       "1725  0.609073            0.885395         0                  1           0   \n",
       "419   0.910713            0.587841         0                  1           0   \n",
       "720   0.319303            0.033680         0                  0           0   \n",
       "1041  0.956172            0.599199         0                  1           0   \n",
       "249   0.368834            0.967273         1                  0           0   \n",
       "...        ...                 ...       ...                ...         ...   \n",
       "1302  0.737796            0.804763         1                  0           0   \n",
       "1572  0.685676            0.825482         0                  1           0   \n",
       "439   0.697010            0.434206         1                  1           0   \n",
       "1014  0.771308            0.922935         1                  0           0   \n",
       "124   0.066636            0.951850         1                  0           1   \n",
       "\n",
       "      income_Medium  Parents Qualification_Low  Parents Qualification_Medium  \\\n",
       "1725              0                          0                             0   \n",
       "419               1                          0                             1   \n",
       "720               1                          0                             1   \n",
       "1041              1                          0                             0   \n",
       "249               0                          1                             0   \n",
       "...             ...                        ...                           ...   \n",
       "1302              0                          0                             0   \n",
       "1572              1                          0                             0   \n",
       "439               1                          0                             0   \n",
       "1014              0                          0                             0   \n",
       "124               0                          0                             0   \n",
       "\n",
       "      is dropout?_Yes  \n",
       "1725                0  \n",
       "419                 1  \n",
       "720                 1  \n",
       "1041                0  \n",
       "249                 1  \n",
       "...               ...  \n",
       "1302                0  \n",
       "1572                0  \n",
       "439                 1  \n",
       "1014                0  \n",
       "124                 1  \n",
       "\n",
       "[380 rows x 9 columns]"
      ]
     },
     "execution_count": 141,
     "metadata": {},
     "output_type": "execute_result"
    }
   ],
   "source": [
    "pd.concat([X_test, y_test], axis=1)"
   ]
  },
  {
   "cell_type": "code",
   "execution_count": 188,
   "id": "3f501429",
   "metadata": {},
   "outputs": [],
   "source": [
    "import tensorflow as tf\n",
    "import tensorflow.keras\n",
    "from tensorflow.keras import layers, Sequential"
   ]
  },
  {
   "cell_type": "code",
   "execution_count": 196,
   "id": "a9b7152b",
   "metadata": {},
   "outputs": [],
   "source": [
    "model = Sequential([\n",
    "    layers.InputLayer(input_shape=(8,)),\n",
    "    layers.Dense(units=10, activation='relu'),\n",
    "    layers.Dense(units=1, activation='sigmoid')\n",
    "])\n",
    "\n",
    "model.compile(optimizer='adam', loss='binary_crossentropy', metrics=['accuracy'])"
   ]
  },
  {
   "cell_type": "code",
   "execution_count": 197,
   "id": "503d1695",
   "metadata": {},
   "outputs": [],
   "source": [
    "X_train, X_temp, y_train, y_temp = train_test_split(X_resampled, y_resampled, test_size=0.2, random_state=42)\n",
    "X_test, X_val, y_test, y_val = train_test_split(X_temp, y_temp, test_size=0.5, random_state=42)"
   ]
  },
  {
   "cell_type": "code",
   "execution_count": 198,
   "id": "d6b5f981",
   "metadata": {},
   "outputs": [
    {
     "name": "stdout",
     "output_type": "stream",
     "text": [
      "Epoch 1/25\n",
      "31/31 [==============================] - 1s 8ms/step - loss: 0.6388 - accuracy: 0.7401 - val_loss: 0.6150 - val_accuracy: 0.7737\n",
      "Epoch 2/25\n",
      "31/31 [==============================] - 0s 4ms/step - loss: 0.6078 - accuracy: 0.7691 - val_loss: 0.5874 - val_accuracy: 0.8105\n",
      "Epoch 3/25\n",
      "31/31 [==============================] - 0s 4ms/step - loss: 0.5793 - accuracy: 0.8013 - val_loss: 0.5596 - val_accuracy: 0.8158\n",
      "Epoch 4/25\n",
      "31/31 [==============================] - 0s 3ms/step - loss: 0.5499 - accuracy: 0.8329 - val_loss: 0.5300 - val_accuracy: 0.8632\n",
      "Epoch 5/25\n",
      "31/31 [==============================] - 0s 4ms/step - loss: 0.5191 - accuracy: 0.8638 - val_loss: 0.4994 - val_accuracy: 0.8842\n",
      "Epoch 6/25\n",
      "31/31 [==============================] - 0s 4ms/step - loss: 0.4880 - accuracy: 0.8868 - val_loss: 0.4670 - val_accuracy: 0.9053\n",
      "Epoch 7/25\n",
      "31/31 [==============================] - 0s 3ms/step - loss: 0.4557 - accuracy: 0.9046 - val_loss: 0.4323 - val_accuracy: 0.9211\n",
      "Epoch 8/25\n",
      "31/31 [==============================] - 0s 3ms/step - loss: 0.4225 - accuracy: 0.9105 - val_loss: 0.3982 - val_accuracy: 0.9263\n",
      "Epoch 9/25\n",
      "31/31 [==============================] - 0s 3ms/step - loss: 0.3891 - accuracy: 0.9191 - val_loss: 0.3647 - val_accuracy: 0.9316\n",
      "Epoch 10/25\n",
      "31/31 [==============================] - 0s 4ms/step - loss: 0.3558 - accuracy: 0.9217 - val_loss: 0.3334 - val_accuracy: 0.9316\n",
      "Epoch 11/25\n",
      "31/31 [==============================] - 0s 4ms/step - loss: 0.3257 - accuracy: 0.9250 - val_loss: 0.3062 - val_accuracy: 0.9368\n",
      "Epoch 12/25\n",
      "31/31 [==============================] - 0s 3ms/step - loss: 0.3005 - accuracy: 0.9309 - val_loss: 0.2827 - val_accuracy: 0.9421\n",
      "Epoch 13/25\n",
      "31/31 [==============================] - 0s 4ms/step - loss: 0.2786 - accuracy: 0.9276 - val_loss: 0.2625 - val_accuracy: 0.9368\n",
      "Epoch 14/25\n",
      "31/31 [==============================] - 0s 3ms/step - loss: 0.2600 - accuracy: 0.9382 - val_loss: 0.2484 - val_accuracy: 0.9526\n",
      "Epoch 15/25\n",
      "31/31 [==============================] - 0s 4ms/step - loss: 0.2442 - accuracy: 0.9421 - val_loss: 0.2328 - val_accuracy: 0.9474\n",
      "Epoch 16/25\n",
      "31/31 [==============================] - 0s 4ms/step - loss: 0.2307 - accuracy: 0.9388 - val_loss: 0.2198 - val_accuracy: 0.9474\n",
      "Epoch 17/25\n",
      "31/31 [==============================] - 0s 3ms/step - loss: 0.2187 - accuracy: 0.9447 - val_loss: 0.2101 - val_accuracy: 0.9526\n",
      "Epoch 18/25\n",
      "31/31 [==============================] - 0s 3ms/step - loss: 0.2083 - accuracy: 0.9474 - val_loss: 0.2005 - val_accuracy: 0.9579\n",
      "Epoch 19/25\n",
      "31/31 [==============================] - 0s 3ms/step - loss: 0.1990 - accuracy: 0.9474 - val_loss: 0.1928 - val_accuracy: 0.9579\n",
      "Epoch 20/25\n",
      "31/31 [==============================] - 0s 4ms/step - loss: 0.1909 - accuracy: 0.9500 - val_loss: 0.1863 - val_accuracy: 0.9579\n",
      "Epoch 21/25\n",
      "31/31 [==============================] - 0s 5ms/step - loss: 0.1835 - accuracy: 0.9507 - val_loss: 0.1799 - val_accuracy: 0.9579\n",
      "Epoch 22/25\n",
      "31/31 [==============================] - 0s 4ms/step - loss: 0.1768 - accuracy: 0.9513 - val_loss: 0.1743 - val_accuracy: 0.9579\n",
      "Epoch 23/25\n",
      "31/31 [==============================] - 0s 3ms/step - loss: 0.1710 - accuracy: 0.9520 - val_loss: 0.1693 - val_accuracy: 0.9579\n",
      "Epoch 24/25\n",
      "31/31 [==============================] - 0s 3ms/step - loss: 0.1650 - accuracy: 0.9566 - val_loss: 0.1650 - val_accuracy: 0.9579\n",
      "Epoch 25/25\n",
      "31/31 [==============================] - 0s 3ms/step - loss: 0.1598 - accuracy: 0.9559 - val_loss: 0.1593 - val_accuracy: 0.9579\n"
     ]
    },
    {
     "data": {
      "text/plain": [
       "<keras.src.callbacks.History at 0x2059643b710>"
      ]
     },
     "execution_count": 198,
     "metadata": {},
     "output_type": "execute_result"
    }
   ],
   "source": [
    "model.fit(X_train, y_train, epochs=25, batch_size=50, validation_data=(X_val, y_val))"
   ]
  },
  {
   "cell_type": "code",
   "execution_count": 199,
   "id": "bb94db2d",
   "metadata": {},
   "outputs": [
    {
     "name": "stdout",
     "output_type": "stream",
     "text": [
      "6/6 [==============================] - 0s 2ms/step - loss: 0.1963 - accuracy: 0.9211\n"
     ]
    },
    {
     "data": {
      "text/plain": [
       "[0.1962987631559372, 0.9210526347160339]"
      ]
     },
     "execution_count": 199,
     "metadata": {},
     "output_type": "execute_result"
    }
   ],
   "source": [
    "model.evaluate(X_test, y_test)"
   ]
  },
  {
   "cell_type": "code",
   "execution_count": 200,
   "id": "d52b0dbf",
   "metadata": {},
   "outputs": [
    {
     "name": "stdout",
     "output_type": "stream",
     "text": [
      "6/6 [==============================] - 0s 1ms/step\n"
     ]
    }
   ],
   "source": [
    "predict = model.predict(X_test)\n",
    "def get_ans(x):\n",
    "    if x[0]>=0.5:\n",
    "        return 1\n",
    "    else:\n",
    "        return 0\n",
    "predict = list(map(get_ans, predict))"
   ]
  },
  {
   "cell_type": "code",
   "execution_count": 201,
   "id": "b1383e10",
   "metadata": {},
   "outputs": [
    {
     "name": "stdout",
     "output_type": "stream",
     "text": [
      "              precision    recall  f1-score   support\n",
      "\n",
      "           0       0.86      1.00      0.93        94\n",
      "           1       1.00      0.84      0.92        96\n",
      "\n",
      "    accuracy                           0.92       190\n",
      "   macro avg       0.93      0.92      0.92       190\n",
      "weighted avg       0.93      0.92      0.92       190\n",
      "\n"
     ]
    }
   ],
   "source": [
    "print(classification_report(y_test, predict))"
   ]
  },
  {
   "cell_type": "code",
   "execution_count": 220,
   "id": "6c90a74f",
   "metadata": {},
   "outputs": [],
   "source": [
    "model_rnn = Sequential()\n",
    "model_rnn.add(layers.LSTM(64, input_shape=(1,8), activation='relu')),\n",
    "model_rnn.add(layers.Dense(10, activation='relu'))\n",
    "model_rnn.add(layers.Dense(1, activation='sigmoid'))\n",
    "model_rnn.compile(optimizer='adam', loss='binary_crossentropy', metrics=['accuracy'])"
   ]
  },
  {
   "cell_type": "code",
   "execution_count": 221,
   "id": "98dfff9f",
   "metadata": {},
   "outputs": [],
   "source": [
    "new_X_train = np.array(X_train).reshape(X_train.shape[0], 1, X_train.shape[1])\n",
    "new_X_test = np.array(X_test).reshape(X_test.shape[0], 1, X_test.shape[1])\n",
    "new_X_val = np.array(X_val).reshape(X_val.shape[0], 1, X_val.shape[1])"
   ]
  },
  {
   "cell_type": "code",
   "execution_count": 222,
   "id": "d3c5d15b",
   "metadata": {},
   "outputs": [
    {
     "name": "stdout",
     "output_type": "stream",
     "text": [
      "Epoch 1/10\n",
      "31/31 [==============================] - 2s 15ms/step - loss: 0.6833 - accuracy: 0.7184 - val_loss: 0.6721 - val_accuracy: 0.9000\n",
      "Epoch 2/10\n",
      "31/31 [==============================] - 0s 4ms/step - loss: 0.6534 - accuracy: 0.8895 - val_loss: 0.6271 - val_accuracy: 0.9211\n",
      "Epoch 3/10\n",
      "31/31 [==============================] - 0s 5ms/step - loss: 0.5816 - accuracy: 0.8928 - val_loss: 0.5169 - val_accuracy: 0.9316\n",
      "Epoch 4/10\n",
      "31/31 [==============================] - 0s 4ms/step - loss: 0.4427 - accuracy: 0.9020 - val_loss: 0.3527 - val_accuracy: 0.9211\n",
      "Epoch 5/10\n",
      "31/31 [==============================] - 0s 4ms/step - loss: 0.2999 - accuracy: 0.9092 - val_loss: 0.2361 - val_accuracy: 0.9474\n",
      "Epoch 6/10\n",
      "31/31 [==============================] - 0s 4ms/step - loss: 0.2179 - accuracy: 0.9329 - val_loss: 0.1809 - val_accuracy: 0.9526\n",
      "Epoch 7/10\n",
      "31/31 [==============================] - 0s 4ms/step - loss: 0.1764 - accuracy: 0.9454 - val_loss: 0.1504 - val_accuracy: 0.9526\n",
      "Epoch 8/10\n",
      "31/31 [==============================] - 0s 5ms/step - loss: 0.1506 - accuracy: 0.9487 - val_loss: 0.1368 - val_accuracy: 0.9579\n",
      "Epoch 9/10\n",
      "31/31 [==============================] - 0s 5ms/step - loss: 0.1319 - accuracy: 0.9566 - val_loss: 0.1272 - val_accuracy: 0.9684\n",
      "Epoch 10/10\n",
      "31/31 [==============================] - 0s 4ms/step - loss: 0.1165 - accuracy: 0.9618 - val_loss: 0.1116 - val_accuracy: 0.9684\n"
     ]
    },
    {
     "data": {
      "text/plain": [
       "<keras.src.callbacks.History at 0x20599c133d0>"
      ]
     },
     "execution_count": 222,
     "metadata": {},
     "output_type": "execute_result"
    }
   ],
   "source": [
    "model_rnn.fit(new_X_train, y_train, epochs=10, batch_size=50, validation_data=(new_X_val, y_val))"
   ]
  },
  {
   "cell_type": "code",
   "execution_count": 223,
   "id": "9d670f59",
   "metadata": {},
   "outputs": [
    {
     "name": "stdout",
     "output_type": "stream",
     "text": [
      "6/6 [==============================] - 0s 2ms/step\n"
     ]
    }
   ],
   "source": [
    "predict = model_rnn.predict(new_X_test)\n",
    "def get_ans(x):\n",
    "    if x[0]>=0.5:\n",
    "        return 1\n",
    "    else:\n",
    "        return 0\n",
    "predict = list(map(get_ans, predict))"
   ]
  },
  {
   "cell_type": "code",
   "execution_count": 224,
   "id": "d1abf676",
   "metadata": {},
   "outputs": [
    {
     "name": "stdout",
     "output_type": "stream",
     "text": [
      "              precision    recall  f1-score   support\n",
      "\n",
      "           0       0.90      1.00      0.95        94\n",
      "           1       1.00      0.90      0.95        96\n",
      "\n",
      "    accuracy                           0.95       190\n",
      "   macro avg       0.95      0.95      0.95       190\n",
      "weighted avg       0.95      0.95      0.95       190\n",
      "\n"
     ]
    }
   ],
   "source": [
    "print(classification_report(y_test, predict))"
   ]
  },
  {
   "cell_type": "code",
   "execution_count": null,
   "id": "2362d4b4",
   "metadata": {},
   "outputs": [],
   "source": []
  }
 ],
 "metadata": {
  "kernelspec": {
   "display_name": "Python 3 (ipykernel)",
   "language": "python",
   "name": "python3"
  },
  "language_info": {
   "codemirror_mode": {
    "name": "ipython",
    "version": 3
   },
   "file_extension": ".py",
   "mimetype": "text/x-python",
   "name": "python",
   "nbconvert_exporter": "python",
   "pygments_lexer": "ipython3",
   "version": "3.11.4"
  }
 },
 "nbformat": 4,
 "nbformat_minor": 5
}
